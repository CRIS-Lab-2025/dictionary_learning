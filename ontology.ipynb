{
 "cells": [
  {
   "metadata": {
    "ExecuteTime": {
     "end_time": "2025-04-01T20:28:56.071099Z",
     "start_time": "2025-04-01T20:28:56.068613Z"
    }
   },
   "cell_type": "code",
   "source": [
    "# import cell\n",
    "import json\n",
    "import numpy as np\n",
    "import torch\n",
    "from datasets import load_dataset\n",
    "import pandas as pd\n",
    "from transformers import AutoModelForCausalLM, AutoTokenizer\n",
    "import k_means\n",
    "from clustering import Pythia_model\n",
    "import pickle\n",
    "import joblib"
   ],
   "id": "baecc3dbe611dfcb",
   "outputs": [],
   "execution_count": 20
  },
  {
   "metadata": {
    "ExecuteTime": {
     "end_time": "2025-04-01T20:08:33.042156Z",
     "start_time": "2025-04-01T20:08:33.039406Z"
    }
   },
   "cell_type": "code",
   "source": [
    "# Read the JSON file, get the key terms into correct a list\n",
    "data = json.loads(open('mesh_terms.json').read())"
   ],
   "id": "a6ed1621831207b8",
   "outputs": [],
   "execution_count": 2
  },
  {
   "metadata": {
    "ExecuteTime": {
     "end_time": "2025-04-01T20:08:33.096729Z",
     "start_time": "2025-04-01T20:08:33.094421Z"
    }
   },
   "cell_type": "code",
   "source": [
    "parents = list(data.keys()) #data.keys()\n",
    "print(parents)"
   ],
   "id": "e3a632b2930aba70",
   "outputs": [
    {
     "name": "stdout",
     "output_type": "stream",
     "text": [
      "['Anatomy', 'Diseases', 'Chemicals and Drugs', 'Phenomena and Processes']\n"
     ]
    }
   ],
   "execution_count": 3
  },
  {
   "metadata": {
    "ExecuteTime": {
     "end_time": "2025-04-01T20:08:33.159074Z",
     "start_time": "2025-04-01T20:08:33.155463Z"
    }
   },
   "cell_type": "code",
   "source": [
    "# Get the children of each parent\n",
    "children = []\n",
    "for parent in parents:\n",
    "    children.append(list(data[parent].keys()))\n",
    "print(children)"
   ],
   "id": "b3768ba1844753b6",
   "outputs": [
    {
     "name": "stdout",
     "output_type": "stream",
     "text": [
      "[['Extremities', 'Cartilage', 'Liver', 'Lung'], ['Infections', 'Cysts', 'Arm Injuries', 'Drowning'], ['Organic Chemicals', 'Micelles', 'Carbohydrates', 'Biological Factors'], ['Physical Phenomena', 'Metabolism', 'Algorithms', 'Fourier Analysis']]\n"
     ]
    }
   ],
   "execution_count": 4
  },
  {
   "metadata": {
    "ExecuteTime": {
     "end_time": "2025-04-01T20:08:33.210965Z",
     "start_time": "2025-04-01T20:08:33.207417Z"
    }
   },
   "cell_type": "code",
   "source": [
    "all_terms = []\n",
    "for parent in parents:\n",
    "    all_terms.append(parent)\n",
    "for child in children:\n",
    "    all_terms.extend(child)\n",
    "print(all_terms)"
   ],
   "id": "cb3ec2baab01c1e2",
   "outputs": [
    {
     "name": "stdout",
     "output_type": "stream",
     "text": [
      "['Anatomy', 'Diseases', 'Chemicals and Drugs', 'Phenomena and Processes', 'Extremities', 'Cartilage', 'Liver', 'Lung', 'Infections', 'Cysts', 'Arm Injuries', 'Drowning', 'Organic Chemicals', 'Micelles', 'Carbohydrates', 'Biological Factors', 'Physical Phenomena', 'Metabolism', 'Algorithms', 'Fourier Analysis']\n"
     ]
    }
   ],
   "execution_count": 5
  },
  {
   "metadata": {
    "ExecuteTime": {
     "end_time": "2025-04-01T20:08:33.261370Z",
     "start_time": "2025-04-01T20:08:33.258055Z"
    }
   },
   "cell_type": "code",
   "source": [
    "### USE IF YOU WANNA INITIALIZE A DATASET WITH DIFFERENT PARAMETERS\n",
    "\n",
    "# # Extract sentences from the Pile dataset that have these terms.\n",
    "# pile_dataset = load_dataset(\"monology/pile-uncopyrighted\", split=\"train\", streaming=True)\n",
    "# sentences_per_term = [0 for i in range(len(all_terms))]\n",
    "# num_sentences = 0\n",
    "# biomedical_sentences = [[] for i in range(len(all_terms))]\n",
    "# for sentence in pile_dataset:\n",
    "#     for i, term in enumerate(all_terms):\n",
    "#         # Convert to lower case\n",
    "#         term = term.lower()\n",
    "#         if term in sentence[\"text\"] and sentences_per_term[i] < 60:\n",
    "#             sentences_per_term[i] += 1\n",
    "#             biomedical_sentences[i].append(sentence[\"text\"])\n",
    "#             num_sentences += 1\n",
    "#             break\n",
    "#     if num_sentences >= 1000:\n",
    "#         break"
   ],
   "id": "5f1ccc68e87dc87e",
   "outputs": [],
   "execution_count": 6
  },
  {
   "metadata": {
    "ExecuteTime": {
     "end_time": "2025-04-01T20:08:33.309049Z",
     "start_time": "2025-04-01T20:08:33.306127Z"
    }
   },
   "cell_type": "code",
   "source": [
    "### UTIL BLOCK IF WE NEED TO DO IT FROM SCRATCH\n",
    "\n",
    "\n",
    "# # Convert sentences into a dataframe\n",
    "# df = pd.DataFrame()\n",
    "# df['Term'] = []\n",
    "# df['Sentence'] = []\n",
    "# count = 0\n",
    "# for i, term in enumerate(all_terms):\n",
    "#     for sentence in biomedical_sentences[i]:\n",
    "#         df.loc[count] =  [term, sentence]\n",
    "#         count += 1\n",
    "# # Save it\n",
    "# df.to_csv(\"biomedical_sentences.csv\")\n",
    "#\n"
   ],
   "id": "ee3fc7b8ff4db5aa",
   "outputs": [],
   "execution_count": 7
  },
  {
   "metadata": {
    "ExecuteTime": {
     "end_time": "2025-04-01T20:08:33.534003Z",
     "start_time": "2025-04-01T20:08:33.354334Z"
    }
   },
   "cell_type": "code",
   "source": [
    "# Load the dataframe\n",
    "df = pd.read_csv(\"biomedical_sentences.csv\")"
   ],
   "id": "ef8ac6e84b755c8f",
   "outputs": [],
   "execution_count": 8
  },
  {
   "metadata": {
    "ExecuteTime": {
     "end_time": "2025-04-01T20:08:35.963449Z",
     "start_time": "2025-04-01T20:08:33.546657Z"
    }
   },
   "cell_type": "code",
   "source": [
    "# Load the Pythia model and the tokenizer\n",
    "model = Pythia_model(\"EleutherAI/pythia-70m-deduped\", \"EleutherAI/pythia-70m-deduped\")"
   ],
   "id": "216a06634e9ab003",
   "outputs": [
    {
     "name": "stderr",
     "output_type": "stream",
     "text": [
      "The `GPTNeoXSdpaAttention` class is deprecated in favor of simply modifying the `config._attn_implementation`attribute of the `GPTNeoXAttention` class! It will be removed in v4.48\n"
     ]
    }
   ],
   "execution_count": 9
  },
  {
   "metadata": {
    "ExecuteTime": {
     "end_time": "2025-04-01T20:15:27.254145Z",
     "start_time": "2025-04-01T20:08:35.973483Z"
    }
   },
   "cell_type": "code",
   "source": [
    "# activations_of_interest = []\n",
    "# for i in range(len(df)):\n",
    "#     activations_of_interest.append(model.get_activation_for_token(df.iloc[i]['Sentence'], df.iloc[i]['Term']))"
   ],
   "id": "aa6475a7eb4ba653",
   "outputs": [
    {
     "name": "stdout",
     "output_type": "stream",
     "text": [
      "Error in getting final layer activations 22911\n",
      "Error in getting final layer activations 21989\n",
      "Error in getting final layer activations 21548\n",
      "Error in getting final layer activations 141471\n",
      "Error in getting final layer activations 161224\n",
      "Error in getting final layer activations 219105\n",
      "Error in getting final layer activations 414963\n",
      "Error in getting final layer activations 22255\n",
      "Error in getting final layer activations 28876\n",
      "Error in getting final layer activations 27279\n",
      "Error in getting final layer activations 40692\n",
      "Error in getting final layer activations 131088\n",
      "Error in getting final layer activations 36538\n",
      "Error in getting final layer activations 30525\n",
      "Error in getting final layer activations 51080\n",
      "Error in getting final layer activations 24028\n",
      "Error in getting final layer activations 28804\n",
      "Error in getting final layer activations 51192\n",
      "Error in getting final layer activations 28769\n",
      "Error in getting final layer activations 26719\n"
     ]
    }
   ],
   "execution_count": 10
  },
  {
   "metadata": {
    "ExecuteTime": {
     "end_time": "2025-04-01T20:21:27.054559Z",
     "start_time": "2025-04-01T20:21:27.042849Z"
    }
   },
   "cell_type": "code",
   "source": [
    "# with open('final_layer_activations.pkl', 'wb') as f:\n",
    "#     pickle.dump(activations_of_interest, f)"
   ],
   "id": "839887a3d51ecce",
   "outputs": [],
   "execution_count": 13
  },
  {
   "metadata": {
    "ExecuteTime": {
     "end_time": "2025-04-01T20:22:13.709737Z",
     "start_time": "2025-04-01T20:22:13.701457Z"
    }
   },
   "cell_type": "code",
   "source": [
    "# Load the final layer activations\n",
    "with open('final_layer_activations.pkl', 'rb') as f:\n",
    "    activations_of_interest = pickle.load(f) #final_layer_activations"
   ],
   "id": "a862521321638fdb",
   "outputs": [],
   "execution_count": 14
  },
  {
   "metadata": {
    "ExecuteTime": {
     "end_time": "2025-04-01T20:27:21.937401Z",
     "start_time": "2025-04-01T20:27:21.933947Z"
    }
   },
   "cell_type": "code",
   "source": [
    "# Get the activations without any None values\n",
    "non_none_activations = [i for i in activations_of_interest if i is not None]"
   ],
   "id": "c3e654a7095a1d67",
   "outputs": [],
   "execution_count": 18
  },
  {
   "metadata": {
    "ExecuteTime": {
     "end_time": "2025-04-01T20:31:58.135228Z",
     "start_time": "2025-04-01T20:31:58.122289Z"
    }
   },
   "cell_type": "code",
   "source": [
    "# None values are handled implicitly\n",
    "k_means = k_means.k_means(non_none_activations, 4, distance_metric = \"Euclidean\")\n",
    "# Save the k_means model\n",
    "# k_means.save(\"mesh_k_means\")"
   ],
   "id": "a3e49c5310b8d612",
   "outputs": [],
   "execution_count": 22
  },
  {
   "metadata": {
    "ExecuteTime": {
     "end_time": "2025-04-01T20:31:59.490303Z",
     "start_time": "2025-04-01T20:31:59.481867Z"
    }
   },
   "cell_type": "code",
   "source": [
    "# SAve the k_means model\n",
    "joblib.dump(k_means, \"mesh_k_means\")"
   ],
   "id": "ead6a20c821c8fba",
   "outputs": [
    {
     "data": {
      "text/plain": [
       "['mesh_k_means']"
      ]
     },
     "execution_count": 23,
     "metadata": {},
     "output_type": "execute_result"
    }
   ],
   "execution_count": 23
  },
  {
   "metadata": {
    "ExecuteTime": {
     "end_time": "2025-04-01T20:32:39.780212Z",
     "start_time": "2025-04-01T20:32:39.775717Z"
    }
   },
   "cell_type": "code",
   "source": [
    "# Load the k_means model\n",
    "k_means = joblib.load(\"mesh_k_means\")"
   ],
   "id": "e5c3b590a9b232c8",
   "outputs": [],
   "execution_count": 24
  },
  {
   "metadata": {
    "ExecuteTime": {
     "end_time": "2025-04-01T20:40:52.987153Z",
     "start_time": "2025-04-01T20:40:52.981495Z"
    }
   },
   "cell_type": "code",
   "source": "preds = k_means.predict(non_none_activations)",
   "id": "867fbd69b70bd1db",
   "outputs": [],
   "execution_count": 28
  },
  {
   "metadata": {
    "ExecuteTime": {
     "end_time": "2025-04-01T20:43:45.572535Z",
     "start_time": "2025-04-01T20:43:45.565122Z"
    }
   },
   "cell_type": "code",
   "source": "print(preds)",
   "id": "777ffe33b4960487",
   "outputs": [
    {
     "name": "stdout",
     "output_type": "stream",
     "text": [
      "[0 0 0 0 0 0 0 0 0 0 0 0 0 0 0 0 0 0 2 0 2 0 0 0 0 0 0 0 0 0 0 0 2 0 0 0 0\n",
      " 2 0 0 0 0 0 0 0 0 0 0 0 0 0 0 0 0 0 0 0 0 0 0 0 0 0 0 0 0 0 0 0 0 0 0 0 0\n",
      " 0 0 0 0 0 0 0 0 0 0 0 0 0 0 0 0 0 0 0 0 0 0 0 0 0 0 0 0 0 0 0 0 0 0 0 0 2\n",
      " 0 0 0 0 0 0 0 0 0 0 0 0 0 0 0 0 0 0 0 0 0 0 0 0 2 0 0 0 0 2 0 2 0 0 0 0 0\n",
      " 0 0 2 0 0 0 0 0 0 0 0 0 0 0 0 0 0 0 1 1 1 1 1 1 1 1 1 1 1 1 1 1 1 1 1 1 1\n",
      " 1 1 1 1 1 1 1 1 1 1 1 1 1 1 1 1 1 1 1 1 1 1 1 1 1 1 1 1 1 1 1 1 1 1 1 1 1\n",
      " 0 0 3 0 0 0 0 0 0 0 0 0 0 0 0 0 0 0 0 3 0 0 2 0 0 0 0 0 0 0 0 3 0 0 0 0 3\n",
      " 0 0 0 0 3 0 0 0 0 0 0 0 0 0 0 0 0 0 0 0 0 0 0 3 0 0 3 0 3 0 0 3 0 0 0 3 3\n",
      " 3 3 3 0 3 3 2 0 3 3 3 0 0 3 0 3 3 0 3 3 0 3 3 3 3 3 3 3 3 3 0 3 3 0 0 0 0\n",
      " 0 0 0 0 0 0 0 0 0 0 0 0 0 0 0 0 0 0 0 0 0 0 0 0 0 0 0 0 0 0 0 0 0 0 0 0 0\n",
      " 0 0 0 0 0 0 0 0 0 0 0 0 0 0 0 0 0 0 0 0 0 0 0 0 0 0 0 0 0 0 0 0 0 0 0 0 0\n",
      " 0 0 0 0 0 0 0 0 0 0 0 0 0 0 0 0 0 0 0 0 0 0 0 0 0 0 0 0 0 0 0 0 0 0 0 2 0\n",
      " 0 0 0 0 0 0 0 0 0 0 0 0 0 0 0 0 0 0 0 0 0 0 0 0 0 0 0 0 0 0 0 0 0 0 0 0 0\n",
      " 0 0 0 0 0 0 0 0 0 0 0 0 0 0 0 0 0 0 0 0 0 0 0 2 2 0 2 0 0 0 0 0 0 0 0 0 0\n",
      " 0 0 0 0 0 0 0 0 0 0 0 0 0 0 0 0 0 2 0 0 0 0 0 2 0 0 0 0 0 0 0 0 0 2 0 0 0\n",
      " 0 0 0 0 0 2 0 0 0 0 0 0 0 0 0 0 0 0 0 0 0 0 0 0 0 2 0 0 0 0 0 0 0 0 0 0 0\n",
      " 0 0 2 0 0 0 0 0 0 0 0 0 0 0 0 0 0 0 0 0 0 0 0 0 0 0 0 0 0 0 0 0 0 0 0 0 0\n",
      " 0 0 0 0 0 0 0 0 0 2 0 0 0 0 0 0 0 0 0 0 0 0 0 0 0 0 0]\n"
     ]
    }
   ],
   "execution_count": 33
  },
  {
   "metadata": {
    "ExecuteTime": {
     "end_time": "2025-04-01T20:48:07.430388Z",
     "start_time": "2025-04-01T20:48:07.144484Z"
    }
   },
   "cell_type": "code",
   "source": [
    "# Visualize and validate the hypothesis.\n",
    "# Find out which activation belongs to which cluster and keyword.\n",
    "# Create a list of size all_terms\n",
    "common_keywords = [[] for i in range(len(all_terms))]\n",
    "count = 0\n",
    "for i in range(len(activations_of_interest)):\n",
    "    if activations_of_interest[i] is not None:\n",
    "        # Find whihch all term it belongs to\n",
    "        for j in range(len(all_terms)):\n",
    "            if all_terms[j].lower() in df.iloc[i]['Sentence'].lower():\n",
    "                common_keywords[j].append(preds[count])\n",
    "                count += 1\n",
    "                break\n"
   ],
   "id": "277fb4ad62794f9e",
   "outputs": [],
   "execution_count": 50
  },
  {
   "metadata": {
    "ExecuteTime": {
     "end_time": "2025-04-01T20:49:54.522454Z",
     "start_time": "2025-04-01T20:49:54.518567Z"
    }
   },
   "cell_type": "code",
   "source": [
    "print(common_keywords[6])\n",
    "print(all_terms[6])"
   ],
   "id": "f280745da6b3a4f3",
   "outputs": [
    {
     "name": "stdout",
     "output_type": "stream",
     "text": [
      "[np.int32(0), np.int32(0), np.int32(3), np.int32(0), np.int32(0), np.int32(0), np.int32(0), np.int32(0), np.int32(0), np.int32(0), np.int32(0), np.int32(0), np.int32(0), np.int32(0), np.int32(0), np.int32(0), np.int32(0), np.int32(0), np.int32(0), np.int32(3), np.int32(0), np.int32(0), np.int32(2), np.int32(0), np.int32(0), np.int32(0), np.int32(0), np.int32(0), np.int32(0), np.int32(0), np.int32(0), np.int32(3), np.int32(0), np.int32(0), np.int32(0), np.int32(0), np.int32(3), np.int32(0), np.int32(0), np.int32(0), np.int32(0), np.int32(3), np.int32(0), np.int32(0), np.int32(0), np.int32(0), np.int32(0), np.int32(0), np.int32(0), np.int32(0), np.int32(0), np.int32(0), np.int32(0), np.int32(0), np.int32(0), np.int32(0), np.int32(0), np.int32(0), np.int32(0), np.int32(0), np.int32(3), np.int32(0), np.int32(3), np.int32(0), np.int32(3), np.int32(2), np.int32(3), np.int32(0), np.int32(3), np.int32(3), np.int32(0), np.int32(0), np.int32(0), np.int32(0), np.int32(0), np.int32(0), np.int32(0), np.int32(0), np.int32(0), np.int32(0), np.int32(0), np.int32(0), np.int32(0), np.int32(0), np.int32(0), np.int32(0), np.int32(0), np.int32(0), np.int32(0), np.int32(0), np.int32(0), np.int32(0), np.int32(0), np.int32(0), np.int32(2), np.int32(2), np.int32(0), np.int32(0), np.int32(0), np.int32(0), np.int32(0), np.int32(0), np.int32(0), np.int32(0), np.int32(0), np.int32(0), np.int32(0), np.int32(0), np.int32(0), np.int32(0), np.int32(2), np.int32(0), np.int32(0), np.int32(0), np.int32(0), np.int32(0), np.int32(0)]\n",
      "Liver\n"
     ]
    }
   ],
   "execution_count": 55
  },
  {
   "metadata": {
    "ExecuteTime": {
     "end_time": "2025-04-01T20:50:01.573441Z",
     "start_time": "2025-04-01T20:50:01.567004Z"
    }
   },
   "cell_type": "code",
   "source": [
    "# Find the cluster wise means, and print them. I wanna see something.\n",
    "for i in range(len(common_keywords)):\n",
    "    print(all_terms[i], np.mean(common_keywords[i]))"
   ],
   "id": "3efd4c5349b97b91",
   "outputs": [
    {
     "name": "stdout",
     "output_type": "stream",
     "text": [
      "Anatomy 0.2\n",
      "Diseases 0.2231404958677686\n",
      "Chemicals and Drugs nan\n",
      "Phenomena and Processes nan\n",
      "Extremities 0.1568627450980392\n",
      "Cartilage 1.0\n",
      "Liver 0.36752136752136755\n",
      "Lung 1.2765957446808511\n",
      "Infections 0.0\n",
      "Cysts 0.0\n",
      "Arm Injuries nan\n",
      "Drowning 0.05714285714285714\n",
      "Organic Chemicals nan\n",
      "Micelles nan\n",
      "Carbohydrates 0.06666666666666667\n",
      "Biological Factors nan\n",
      "Physical Phenomena nan\n",
      "Metabolism 0.10810810810810811\n",
      "Algorithms 0.04081632653061224\n",
      "Fourier Analysis nan\n"
     ]
    },
    {
     "name": "stderr",
     "output_type": "stream",
     "text": [
      "/home/sv-goat/dictionary_learning/venv/lib/python3.12/site-packages/numpy/_core/fromnumeric.py:3904: RuntimeWarning: Mean of empty slice.\n",
      "  return _methods._mean(a, axis=axis, dtype=dtype,\n",
      "/home/sv-goat/dictionary_learning/venv/lib/python3.12/site-packages/numpy/_core/_methods.py:147: RuntimeWarning: invalid value encountered in scalar divide\n",
      "  ret = ret.dtype.type(ret / rcount)\n"
     ]
    }
   ],
   "execution_count": 56
  },
  {
   "metadata": {},
   "cell_type": "markdown",
   "source": [
    "I think this is a good starting point that we can iterate upon later.\n",
    "\n",
    "Some things that I can think of:-\n",
    "1. Add more sentences to the dataset.\n",
    "2. Bigger models\n",
    "3. Different distance metrics ( Cosine similarity / KL divergence )\n",
    "4. Other clustering algorithms"
   ],
   "id": "99a39688e6a1822e"
  },
  {
   "metadata": {},
   "cell_type": "code",
   "outputs": [],
   "execution_count": null,
   "source": "",
   "id": "aa6f803459f1c65c"
  }
 ],
 "metadata": {
  "kernelspec": {
   "display_name": "Python 3",
   "language": "python",
   "name": "python3"
  },
  "language_info": {
   "codemirror_mode": {
    "name": "ipython",
    "version": 2
   },
   "file_extension": ".py",
   "mimetype": "text/x-python",
   "name": "python",
   "nbconvert_exporter": "python",
   "pygments_lexer": "ipython2",
   "version": "2.7.6"
  }
 },
 "nbformat": 4,
 "nbformat_minor": 5
}
