{
 "cells": [
  {
   "cell_type": "code",
   "execution_count": 1,
   "metadata": {},
   "outputs": [
    {
     "name": "stderr",
     "output_type": "stream",
     "text": [
      "/Users/collinszczepanski/Code/cris/LLM/chenv/lib/python3.11/site-packages/tqdm/auto.py:21: TqdmWarning: IProgress not found. Please update jupyter and ipywidgets. See https://ipywidgets.readthedocs.io/en/stable/user_install.html\n",
      "  from .autonotebook import tqdm as notebook_tqdm\n"
     ]
    }
   ],
   "source": [
    "from trees import Tree\n",
    "from wrappers import GPTneoX_DenseWrapper, ActivationWrapper\n",
    "\n",
    "import torch\n",
    "import numpy as np\n",
    "import umap\n",
    "import plotly.graph_objects as go"
   ]
  },
  {
   "cell_type": "code",
   "execution_count": 2,
   "metadata": {},
   "outputs": [],
   "source": [
    "# Install 'desc2025.xml' from MeSH website\n",
    "tm = Tree('desc2025.xml')"
   ]
  },
  {
   "cell_type": "code",
   "execution_count": 29,
   "metadata": {},
   "outputs": [],
   "source": [
    "# View MeSH online browser to select a base tree number\n",
    "key = 'A08.186'\n",
    "\n",
    "#G, names = tm.tree_from_key(key, max_depth=4)\n",
    "#print(names)\n",
    "\n",
    "names = ['The heart is']\n",
    "batch_size = len(names)"
   ]
  },
  {
   "cell_type": "code",
   "execution_count": 30,
   "metadata": {},
   "outputs": [],
   "source": [
    "model = \"EleutherAI/pythia-410m-deduped\"\n",
    "wrapper = ActivationWrapper(model)\n",
    "\n",
    "layer_num = -1\n",
    "layer = wrapper.make_layer_wrapper(layer_num, 'mlp')"
   ]
  },
  {
   "cell_type": "code",
   "execution_count": 31,
   "metadata": {},
   "outputs": [
    {
     "data": {
      "text/plain": [
       "torch.Size([1, 3, 50278])"
      ]
     },
     "execution_count": 31,
     "metadata": {},
     "output_type": "execute_result"
    }
   ],
   "source": [
    "wrapper.batch_logits(names, tokens = 'all').shape"
   ]
  },
  {
   "cell_type": "code",
   "execution_count": 32,
   "metadata": {},
   "outputs": [],
   "source": [
    "vocab_dict = wrapper.get_vocab()\n",
    "reversed_dict = {v: k for k, v in vocab_dict.items()}"
   ]
  },
  {
   "cell_type": "code",
   "execution_count": 33,
   "metadata": {},
   "outputs": [
    {
     "name": "stdout",
     "output_type": "stream",
     "text": [
      "torch.Size([1, 3, 1024])\n"
     ]
    }
   ],
   "source": [
    "#all_acts, all_toks = layer.batch_activations(names)\n",
    "last_acts, last_toks = layer.batch_activations(names, tokens='all')\n",
    "\n",
    "print(last_acts.shape)\n",
    "\n",
    "distances = torch.cdist(last_acts, last_acts, p=2)"
   ]
  },
  {
   "cell_type": "code",
   "execution_count": 34,
   "metadata": {},
   "outputs": [
    {
     "name": "stderr",
     "output_type": "stream",
     "text": [
      "Asking to truncate to max_length but no maximum length is provided and the model has no predefined maximum length. Default to no truncation.\n"
     ]
    },
    {
     "name": "stdout",
     "output_type": "stream",
     "text": [
      "torch.Size([10, 1024])\n",
      "torch.Size([100, 1024])\n",
      "torch.Size([110, 1024])\n"
     ]
    }
   ],
   "source": [
    "num_tok_samples = 10\n",
    "temp = 1.0\n",
    "\n",
    "\n",
    "all_to_embed = []\n",
    "colors = []\n",
    "\n",
    "next_tokens = wrapper.generate_next_token(names, num_tok_samples, temp)\n",
    "\n",
    "\n",
    "thing, new_sens = wrapper.generate_and_prepare(names, num_tok_samples, temp)\n",
    "res, to = layer.batch_activations(thing, tokens='last', tokenized_prior=True)\n",
    "#vectorized_map = np.vectorize(reversed_dict.get)\n",
    "#tokens_next = vectorized_map(next_tokens)\n",
    "all_to_embed.extend(new_sens)\n",
    "blue = ['red'] * len(new_sens)\n",
    "colors.extend(blue)\n",
    "#print(next_tokens)\n",
    "\n",
    "new_thing, new_new_sens = wrapper.generate_and_prepare(new_sens, num_tok_samples, temp)\n",
    "new_res, new_to = layer.batch_activations(new_thing, tokens='last', tokenized_prior=True)\n",
    "\n",
    "all_to_embed.extend(new_new_sens)\n",
    "green = ['green'] * len(new_new_sens)\n",
    "colors.extend(green)\n",
    "\n",
    "\n",
    "print(res.shape)\n",
    "\n",
    "print(new_res.shape)\n",
    "\n",
    "acts = torch.cat([res, new_res], dim=0)\n",
    "print(acts.shape)"
   ]
  },
  {
   "cell_type": "code",
   "execution_count": 35,
   "metadata": {},
   "outputs": [
    {
     "name": "stdout",
     "output_type": "stream",
     "text": [
      "['red', 'red', 'red', 'red', 'red', 'red', 'red', 'red', 'red', 'red', 'green', 'green', 'green', 'green', 'green', 'green', 'green', 'green', 'green', 'green', 'green', 'green', 'green', 'green', 'green', 'green', 'green', 'green', 'green', 'green', 'green', 'green', 'green', 'green', 'green', 'green', 'green', 'green', 'green', 'green', 'green', 'green', 'green', 'green', 'green', 'green', 'green', 'green', 'green', 'green', 'green', 'green', 'green', 'green', 'green', 'green', 'green', 'green', 'green', 'green', 'green', 'green', 'green', 'green', 'green', 'green', 'green', 'green', 'green', 'green', 'green', 'green', 'green', 'green', 'green', 'green', 'green', 'green', 'green', 'green', 'green', 'green', 'green', 'green', 'green', 'green', 'green', 'green', 'green', 'green', 'green', 'green', 'green', 'green', 'green', 'green', 'green', 'green', 'green', 'green', 'green', 'green', 'green', 'green', 'green', 'green', 'green', 'green', 'green', 'green']\n",
      "110\n",
      "110\n"
     ]
    }
   ],
   "source": [
    "print(colors)\n",
    "\n",
    "print(len(colors))\n",
    "print(len(all_to_embed))"
   ]
  },
  {
   "cell_type": "code",
   "execution_count": 36,
   "metadata": {},
   "outputs": [
    {
     "name": "stdout",
     "output_type": "stream",
     "text": [
      "(110, 3)\n"
     ]
    },
    {
     "name": "stderr",
     "output_type": "stream",
     "text": [
      "/Users/collinszczepanski/Code/cris/LLM/chenv/lib/python3.11/site-packages/sklearn/utils/deprecation.py:151: FutureWarning:\n",
      "\n",
      "'force_all_finite' was renamed to 'ensure_all_finite' in 1.6 and will be removed in 1.8.\n",
      "\n"
     ]
    },
    {
     "data": {
      "application/vnd.plotly.v1+json": {
       "config": {
        "plotlyServerURL": "https://plot.ly"
       },
       "data": [
        {
         "hoverinfo": "text",
         "marker": {
          "color": [
           "red",
           "red",
           "red",
           "red",
           "red",
           "red",
           "red",
           "red",
           "red",
           "red",
           "green",
           "green",
           "green",
           "green",
           "green",
           "green",
           "green",
           "green",
           "green",
           "green",
           "green",
           "green",
           "green",
           "green",
           "green",
           "green",
           "green",
           "green",
           "green",
           "green",
           "green",
           "green",
           "green",
           "green",
           "green",
           "green",
           "green",
           "green",
           "green",
           "green",
           "green",
           "green",
           "green",
           "green",
           "green",
           "green",
           "green",
           "green",
           "green",
           "green",
           "green",
           "green",
           "green",
           "green",
           "green",
           "green",
           "green",
           "green",
           "green",
           "green",
           "green",
           "green",
           "green",
           "green",
           "green",
           "green",
           "green",
           "green",
           "green",
           "green",
           "green",
           "green",
           "green",
           "green",
           "green",
           "green",
           "green",
           "green",
           "green",
           "green",
           "green",
           "green",
           "green",
           "green",
           "green",
           "green",
           "green",
           "green",
           "green",
           "green",
           "green",
           "green",
           "green",
           "green",
           "green",
           "green",
           "green",
           "green",
           "green",
           "green",
           "green",
           "green",
           "green",
           "green",
           "green",
           "green",
           "green",
           "green",
           "green",
           "green"
          ],
          "opacity": 0.8,
          "size": 4
         },
         "mode": "markers",
         "text": [
          "The heart is really",
          "The heart is a",
          "The heart is like",
          "The heart is the",
          "The heart is a",
          "The heart is notice",
          "The heart is a",
          "The heart is a",
          "The heart is in",
          "The heart is generally",
          "The heart is really important",
          "The heart is really kind",
          "The heart is really all",
          "The heart is really lucky",
          "The heart is really the",
          "The heart is really there",
          "The heart is really a",
          "The heart is really under",
          "The heart is really simple",
          "The heart is really th",
          "The heart is a moist",
          "The heart is a conscious",
          "The heart is a restless",
          "The heart is a second",
          "The heart is a beautiful",
          "The heart is a united",
          "The heart is a feeling",
          "The heart is a hot",
          "The heart is a reservoir",
          "The heart is a powerful",
          "The heart is like the",
          "The heart is like a",
          "The heart is like an",
          "The heart is like a",
          "The heart is like a",
          "The heart is like that",
          "The heart is like a",
          "The heart is like a",
          "The heart is like the",
          "The heart is like an",
          "The heart is the temple",
          "The heart is the organ",
          "The heart is the brightest",
          "The heart is the ont",
          "The heart is the center",
          "The heart is the through",
          "The heart is the soul",
          "The heart is the root",
          "The heart is the beat",
          "The heart is the source",
          "The heart is a circadian",
          "The heart is a cap",
          "The heart is a more",
          "The heart is a Sh",
          "The heart is a box",
          "The heart is a buoy",
          "The heart is a big",
          "The heart is a globe",
          "The heart is a way",
          "The heart is a very",
          "The heart is noticeably",
          "The heart is notice deter",
          "The heart is noticeably",
          "The heart is noticeably",
          "The heart is noticeably",
          "The heart is noticeably",
          "The heart is noticeably",
          "The heart is noticeably",
          "The heart is noticeably",
          "The heart is noticeably",
          "The heart is a muscle",
          "The heart is a cataly",
          "The heart is a peaceful",
          "The heart is a tremend",
          "The heart is a reactivity",
          "The heart is a natural",
          "The heart is a metaphor",
          "The heart is a y",
          "The heart is a series",
          "The heart is a mystery",
          "The heart is a temple",
          "The heart is a symbol",
          "The heart is a clever",
          "The heart is a place",
          "The heart is a great",
          "The heart is a super",
          "The heart is a re",
          "The heart is a fl",
          "The heart is a creative",
          "The heart is a natural",
          "The heart is in this",
          "The heart is in every",
          "The heart is in the",
          "The heart is in the",
          "The heart is in the",
          "The heart is in the",
          "The heart is in the",
          "The heart is in the",
          "The heart is in the",
          "The heart is in the",
          "The heart is generally mot",
          "The heart is generally pink",
          "The heart is generally pure",
          "The heart is generally engaged",
          "The heart is generally the",
          "The heart is generally considered",
          "The heart is generally not",
          "The heart is generally viewed",
          "The heart is generally expressed",
          "The heart is generally admired"
         ],
         "type": "scatter3d",
         "x": {
          "bdata": "sQFRQBDRNkCTwHJAzn9uQAv4M0D3talA17Q+QHEtMED7ZntAf4ZUQNobbEACE4dAvsliQGFkX0A7uWFA9wV1QAIqMEBFZqBAP6JqQKS990CvV6FA6KOdQNyW40C9JZtAlCCXQJ5IjkBxt35A9RelQKYncUDaJZFA6OF7QEQz1z9s1p1AwffOP5TD4D/RhXdAEr7XP+1+3D93YXBA8ZSZQDkOl0BDyYVAVomaQMv/+UCXkZJAp/ekQC/Xg0B9k5JA7hehQJv6kEDMOctA7qO2QCfKQECqD+dAwwmCQPJPrUChz5JAnuttQEeKnEC+CEVAEW43QOgO3UBw2ixALVc0QCXOO0DefDZAJG4sQLfyN0AQbSZArG4vQGipZkCtxPpAKZ6ZQAa4/UAk6VFA1weWQAnNfkAZjupAKjiNQJQ4ZEAP+4tApcuIQJHYlECBmnpAMtGJQNqt0kCMKPpAq9DwQMUYmUBt0J1APDpAQEDuiEDWXNpAyqXTQEnf1EArI9hA15bSQJ2I1ECvBtpAq8HXQAxu80DISVVAk1tYQOxJaECeil9AFT9mQIBYWEA22YBAfclyQGGAc0A=",
          "dtype": "f4"
         },
         "y": {
          "bdata": "U8P0P8aquz+uJAVAAUMPQJOnrT/pnwpAkrepP9Irsj+3/gFAWbYJQGTp6D2gRsA/USCgPwanAT/AwQBAYbCqPY8vpj86/gdAO3RaPXzcEECIgilA+GozQBK/L0BUxxlAm88nQAttP0CnhIw/aeMiQAcCkz/MZjlAmhQcQOBeNkBspSJAh286QGJtMUBfbwNArBQ2QB+8M0AaZRBAscQaQAuB6T+9TtQ/Khk7QCz9DUA+ZdY/rnUQQDkqYz9znuE/TSMBQKkH0T+Qr0pASdMWQKCEOEDH3hpA7uasP9zbCkBBFhpArOpBP6WdAECtb0JAK4csQBNeD0AEuzJAI2IlQK4PKUAO9C1AA74eQOCSNkC/SS1AGz8rQGlaHD82rgdA4zcuQK95AEAWb5U/4OAvQDZrqz8vlw9AQ7C/P/rxnD5cdck/Pn+7P/oeIEAQ+MI/fRgyQJl+MkCtPhpAHf0JQKGnQED93i5AZ7FGP7KRLUD5KYFAp/SIQPRgfECQYX1AatqCQCcNhUCTfIRAXu+FQCo0GEAKek4/5glVPwzS2z+h0fw/PVEDQJeJDUDL6sM9cP3vP0qOiz4=",
          "dtype": "f4"
         },
         "z": {
          "bdata": "PgqjvoqizUAIz2k+niLHQMKezEDaA01A5AzSQLvMykCkFfs+BSQGv5OLPj8z2OM/KiqcP7L1ZD+O9shATFBTP6XYyUBhknBA4eVlP5AYhUB0m5dA08m2QN14g0Bk0opA08u2QIyzt0AjT0Y/gZuLQD6NgT/xP7JA1H7HQNoR8EACPKFA5B/yQPGv7UC0P6A+B/LvQPO/7kAsrcRAMuyfQF+ODkCNVLg/rTCrQAkPiEBqKew/IchoQAzMmj9mCAdAzLQ6QECfsD9nRoRAKJNpQFdNvL/XLYFAdfz/Pxn/V0CrcqdA6I2UP1emV0DwBNK/MhLRv5btgUDr2Pu/Y13bv5eRyr9V4+C/SQPXv63o9r+x4va/IE/lvzQLtj9mb4lAkhirQCwli0DAB18/vjWcQOmyLz9iRYZAsMGgP30+dD9vKQ1ApuN2P+3IuUA+KIc/IvWoQCJdeEAgvo5AaNiFQM7eoEAuMqZA2amBPxUztkDIeGlAlOVZQF2IW0BJaWFAGgRhQOndbkCBv2tAtLZhQM5NhkB/Xpk/SkiqPwEcFT3fAsdAZKY+vfka6L4fOIQ/3R6YPcoFID8=",
          "dtype": "f4"
         }
        }
       ],
       "layout": {
        "margin": {
         "b": 0,
         "l": 0,
         "r": 0,
         "t": 0
        },
        "scene": {
         "xaxis": {
          "title": {
           "text": "X"
          }
         },
         "yaxis": {
          "title": {
           "text": "Y"
          }
         },
         "zaxis": {
          "title": {
           "text": "Z"
          }
         }
        },
        "template": {
         "data": {
          "bar": [
           {
            "error_x": {
             "color": "#2a3f5f"
            },
            "error_y": {
             "color": "#2a3f5f"
            },
            "marker": {
             "line": {
              "color": "#E5ECF6",
              "width": 0.5
             },
             "pattern": {
              "fillmode": "overlay",
              "size": 10,
              "solidity": 0.2
             }
            },
            "type": "bar"
           }
          ],
          "barpolar": [
           {
            "marker": {
             "line": {
              "color": "#E5ECF6",
              "width": 0.5
             },
             "pattern": {
              "fillmode": "overlay",
              "size": 10,
              "solidity": 0.2
             }
            },
            "type": "barpolar"
           }
          ],
          "carpet": [
           {
            "aaxis": {
             "endlinecolor": "#2a3f5f",
             "gridcolor": "white",
             "linecolor": "white",
             "minorgridcolor": "white",
             "startlinecolor": "#2a3f5f"
            },
            "baxis": {
             "endlinecolor": "#2a3f5f",
             "gridcolor": "white",
             "linecolor": "white",
             "minorgridcolor": "white",
             "startlinecolor": "#2a3f5f"
            },
            "type": "carpet"
           }
          ],
          "choropleth": [
           {
            "colorbar": {
             "outlinewidth": 0,
             "ticks": ""
            },
            "type": "choropleth"
           }
          ],
          "contour": [
           {
            "colorbar": {
             "outlinewidth": 0,
             "ticks": ""
            },
            "colorscale": [
             [
              0,
              "#0d0887"
             ],
             [
              0.1111111111111111,
              "#46039f"
             ],
             [
              0.2222222222222222,
              "#7201a8"
             ],
             [
              0.3333333333333333,
              "#9c179e"
             ],
             [
              0.4444444444444444,
              "#bd3786"
             ],
             [
              0.5555555555555556,
              "#d8576b"
             ],
             [
              0.6666666666666666,
              "#ed7953"
             ],
             [
              0.7777777777777778,
              "#fb9f3a"
             ],
             [
              0.8888888888888888,
              "#fdca26"
             ],
             [
              1,
              "#f0f921"
             ]
            ],
            "type": "contour"
           }
          ],
          "contourcarpet": [
           {
            "colorbar": {
             "outlinewidth": 0,
             "ticks": ""
            },
            "type": "contourcarpet"
           }
          ],
          "heatmap": [
           {
            "colorbar": {
             "outlinewidth": 0,
             "ticks": ""
            },
            "colorscale": [
             [
              0,
              "#0d0887"
             ],
             [
              0.1111111111111111,
              "#46039f"
             ],
             [
              0.2222222222222222,
              "#7201a8"
             ],
             [
              0.3333333333333333,
              "#9c179e"
             ],
             [
              0.4444444444444444,
              "#bd3786"
             ],
             [
              0.5555555555555556,
              "#d8576b"
             ],
             [
              0.6666666666666666,
              "#ed7953"
             ],
             [
              0.7777777777777778,
              "#fb9f3a"
             ],
             [
              0.8888888888888888,
              "#fdca26"
             ],
             [
              1,
              "#f0f921"
             ]
            ],
            "type": "heatmap"
           }
          ],
          "histogram": [
           {
            "marker": {
             "pattern": {
              "fillmode": "overlay",
              "size": 10,
              "solidity": 0.2
             }
            },
            "type": "histogram"
           }
          ],
          "histogram2d": [
           {
            "colorbar": {
             "outlinewidth": 0,
             "ticks": ""
            },
            "colorscale": [
             [
              0,
              "#0d0887"
             ],
             [
              0.1111111111111111,
              "#46039f"
             ],
             [
              0.2222222222222222,
              "#7201a8"
             ],
             [
              0.3333333333333333,
              "#9c179e"
             ],
             [
              0.4444444444444444,
              "#bd3786"
             ],
             [
              0.5555555555555556,
              "#d8576b"
             ],
             [
              0.6666666666666666,
              "#ed7953"
             ],
             [
              0.7777777777777778,
              "#fb9f3a"
             ],
             [
              0.8888888888888888,
              "#fdca26"
             ],
             [
              1,
              "#f0f921"
             ]
            ],
            "type": "histogram2d"
           }
          ],
          "histogram2dcontour": [
           {
            "colorbar": {
             "outlinewidth": 0,
             "ticks": ""
            },
            "colorscale": [
             [
              0,
              "#0d0887"
             ],
             [
              0.1111111111111111,
              "#46039f"
             ],
             [
              0.2222222222222222,
              "#7201a8"
             ],
             [
              0.3333333333333333,
              "#9c179e"
             ],
             [
              0.4444444444444444,
              "#bd3786"
             ],
             [
              0.5555555555555556,
              "#d8576b"
             ],
             [
              0.6666666666666666,
              "#ed7953"
             ],
             [
              0.7777777777777778,
              "#fb9f3a"
             ],
             [
              0.8888888888888888,
              "#fdca26"
             ],
             [
              1,
              "#f0f921"
             ]
            ],
            "type": "histogram2dcontour"
           }
          ],
          "mesh3d": [
           {
            "colorbar": {
             "outlinewidth": 0,
             "ticks": ""
            },
            "type": "mesh3d"
           }
          ],
          "parcoords": [
           {
            "line": {
             "colorbar": {
              "outlinewidth": 0,
              "ticks": ""
             }
            },
            "type": "parcoords"
           }
          ],
          "pie": [
           {
            "automargin": true,
            "type": "pie"
           }
          ],
          "scatter": [
           {
            "fillpattern": {
             "fillmode": "overlay",
             "size": 10,
             "solidity": 0.2
            },
            "type": "scatter"
           }
          ],
          "scatter3d": [
           {
            "line": {
             "colorbar": {
              "outlinewidth": 0,
              "ticks": ""
             }
            },
            "marker": {
             "colorbar": {
              "outlinewidth": 0,
              "ticks": ""
             }
            },
            "type": "scatter3d"
           }
          ],
          "scattercarpet": [
           {
            "marker": {
             "colorbar": {
              "outlinewidth": 0,
              "ticks": ""
             }
            },
            "type": "scattercarpet"
           }
          ],
          "scattergeo": [
           {
            "marker": {
             "colorbar": {
              "outlinewidth": 0,
              "ticks": ""
             }
            },
            "type": "scattergeo"
           }
          ],
          "scattergl": [
           {
            "marker": {
             "colorbar": {
              "outlinewidth": 0,
              "ticks": ""
             }
            },
            "type": "scattergl"
           }
          ],
          "scattermap": [
           {
            "marker": {
             "colorbar": {
              "outlinewidth": 0,
              "ticks": ""
             }
            },
            "type": "scattermap"
           }
          ],
          "scattermapbox": [
           {
            "marker": {
             "colorbar": {
              "outlinewidth": 0,
              "ticks": ""
             }
            },
            "type": "scattermapbox"
           }
          ],
          "scatterpolar": [
           {
            "marker": {
             "colorbar": {
              "outlinewidth": 0,
              "ticks": ""
             }
            },
            "type": "scatterpolar"
           }
          ],
          "scatterpolargl": [
           {
            "marker": {
             "colorbar": {
              "outlinewidth": 0,
              "ticks": ""
             }
            },
            "type": "scatterpolargl"
           }
          ],
          "scatterternary": [
           {
            "marker": {
             "colorbar": {
              "outlinewidth": 0,
              "ticks": ""
             }
            },
            "type": "scatterternary"
           }
          ],
          "surface": [
           {
            "colorbar": {
             "outlinewidth": 0,
             "ticks": ""
            },
            "colorscale": [
             [
              0,
              "#0d0887"
             ],
             [
              0.1111111111111111,
              "#46039f"
             ],
             [
              0.2222222222222222,
              "#7201a8"
             ],
             [
              0.3333333333333333,
              "#9c179e"
             ],
             [
              0.4444444444444444,
              "#bd3786"
             ],
             [
              0.5555555555555556,
              "#d8576b"
             ],
             [
              0.6666666666666666,
              "#ed7953"
             ],
             [
              0.7777777777777778,
              "#fb9f3a"
             ],
             [
              0.8888888888888888,
              "#fdca26"
             ],
             [
              1,
              "#f0f921"
             ]
            ],
            "type": "surface"
           }
          ],
          "table": [
           {
            "cells": {
             "fill": {
              "color": "#EBF0F8"
             },
             "line": {
              "color": "white"
             }
            },
            "header": {
             "fill": {
              "color": "#C8D4E3"
             },
             "line": {
              "color": "white"
             }
            },
            "type": "table"
           }
          ]
         },
         "layout": {
          "annotationdefaults": {
           "arrowcolor": "#2a3f5f",
           "arrowhead": 0,
           "arrowwidth": 1
          },
          "autotypenumbers": "strict",
          "coloraxis": {
           "colorbar": {
            "outlinewidth": 0,
            "ticks": ""
           }
          },
          "colorscale": {
           "diverging": [
            [
             0,
             "#8e0152"
            ],
            [
             0.1,
             "#c51b7d"
            ],
            [
             0.2,
             "#de77ae"
            ],
            [
             0.3,
             "#f1b6da"
            ],
            [
             0.4,
             "#fde0ef"
            ],
            [
             0.5,
             "#f7f7f7"
            ],
            [
             0.6,
             "#e6f5d0"
            ],
            [
             0.7,
             "#b8e186"
            ],
            [
             0.8,
             "#7fbc41"
            ],
            [
             0.9,
             "#4d9221"
            ],
            [
             1,
             "#276419"
            ]
           ],
           "sequential": [
            [
             0,
             "#0d0887"
            ],
            [
             0.1111111111111111,
             "#46039f"
            ],
            [
             0.2222222222222222,
             "#7201a8"
            ],
            [
             0.3333333333333333,
             "#9c179e"
            ],
            [
             0.4444444444444444,
             "#bd3786"
            ],
            [
             0.5555555555555556,
             "#d8576b"
            ],
            [
             0.6666666666666666,
             "#ed7953"
            ],
            [
             0.7777777777777778,
             "#fb9f3a"
            ],
            [
             0.8888888888888888,
             "#fdca26"
            ],
            [
             1,
             "#f0f921"
            ]
           ],
           "sequentialminus": [
            [
             0,
             "#0d0887"
            ],
            [
             0.1111111111111111,
             "#46039f"
            ],
            [
             0.2222222222222222,
             "#7201a8"
            ],
            [
             0.3333333333333333,
             "#9c179e"
            ],
            [
             0.4444444444444444,
             "#bd3786"
            ],
            [
             0.5555555555555556,
             "#d8576b"
            ],
            [
             0.6666666666666666,
             "#ed7953"
            ],
            [
             0.7777777777777778,
             "#fb9f3a"
            ],
            [
             0.8888888888888888,
             "#fdca26"
            ],
            [
             1,
             "#f0f921"
            ]
           ]
          },
          "colorway": [
           "#636efa",
           "#EF553B",
           "#00cc96",
           "#ab63fa",
           "#FFA15A",
           "#19d3f3",
           "#FF6692",
           "#B6E880",
           "#FF97FF",
           "#FECB52"
          ],
          "font": {
           "color": "#2a3f5f"
          },
          "geo": {
           "bgcolor": "white",
           "lakecolor": "white",
           "landcolor": "#E5ECF6",
           "showlakes": true,
           "showland": true,
           "subunitcolor": "white"
          },
          "hoverlabel": {
           "align": "left"
          },
          "hovermode": "closest",
          "mapbox": {
           "style": "light"
          },
          "paper_bgcolor": "white",
          "plot_bgcolor": "#E5ECF6",
          "polar": {
           "angularaxis": {
            "gridcolor": "white",
            "linecolor": "white",
            "ticks": ""
           },
           "bgcolor": "#E5ECF6",
           "radialaxis": {
            "gridcolor": "white",
            "linecolor": "white",
            "ticks": ""
           }
          },
          "scene": {
           "xaxis": {
            "backgroundcolor": "#E5ECF6",
            "gridcolor": "white",
            "gridwidth": 2,
            "linecolor": "white",
            "showbackground": true,
            "ticks": "",
            "zerolinecolor": "white"
           },
           "yaxis": {
            "backgroundcolor": "#E5ECF6",
            "gridcolor": "white",
            "gridwidth": 2,
            "linecolor": "white",
            "showbackground": true,
            "ticks": "",
            "zerolinecolor": "white"
           },
           "zaxis": {
            "backgroundcolor": "#E5ECF6",
            "gridcolor": "white",
            "gridwidth": 2,
            "linecolor": "white",
            "showbackground": true,
            "ticks": "",
            "zerolinecolor": "white"
           }
          },
          "shapedefaults": {
           "line": {
            "color": "#2a3f5f"
           }
          },
          "ternary": {
           "aaxis": {
            "gridcolor": "white",
            "linecolor": "white",
            "ticks": ""
           },
           "baxis": {
            "gridcolor": "white",
            "linecolor": "white",
            "ticks": ""
           },
           "bgcolor": "#E5ECF6",
           "caxis": {
            "gridcolor": "white",
            "linecolor": "white",
            "ticks": ""
           }
          },
          "title": {
           "x": 0.05
          },
          "xaxis": {
           "automargin": true,
           "gridcolor": "white",
           "linecolor": "white",
           "ticks": "",
           "title": {
            "standoff": 15
           },
           "zerolinecolor": "white",
           "zerolinewidth": 2
          },
          "yaxis": {
           "automargin": true,
           "gridcolor": "white",
           "linecolor": "white",
           "ticks": "",
           "title": {
            "standoff": 15
           },
           "zerolinecolor": "white",
           "zerolinewidth": 2
          }
         }
        }
       }
      }
     },
     "metadata": {},
     "output_type": "display_data"
    }
   ],
   "source": [
    "umapper = umap.UMAP(n_components=3)\n",
    "emb = umapper.fit_transform(acts.detach().numpy())\n",
    "print(emb.shape)\n",
    "\n",
    "x, y, z = emb[:, 0], emb[:, 1], emb[:, 2]\n",
    "fig = go.Figure(data=[go.Scatter3d(\n",
    "    x=x,\n",
    "    y=y,\n",
    "    z=z,\n",
    "    mode='markers',\n",
    "    marker=dict(\n",
    "        size=4,\n",
    "        color=colors,\n",
    "        opacity=0.8\n",
    "    ),\n",
    "    text=all_to_embed,\n",
    "    hoverinfo='text'        \n",
    ")])\n",
    "\n",
    "fig.update_layout(\n",
    "    scene=dict(\n",
    "        xaxis_title='X',\n",
    "        yaxis_title='Y',\n",
    "        zaxis_title='Z'\n",
    "    ),\n",
    "    margin=dict(l=0, r=0, b=0, t=0)\n",
    ")"
   ]
  },
  {
   "cell_type": "code",
   "execution_count": null,
   "metadata": {},
   "outputs": [],
   "source": [
    "from transformers import AutoModelForCausalLM, AutoTokenizer\n",
    "\n",
    "tokenizer = AutoTokenizer.from_pretrained(model)\n",
    "tokenizer.add_special_tokens({'pad_token': '[PAD]'})\n",
    "\n",
    "tokenized_og_batch, toks = wrapper.tokenize_inputs(names)\n",
    "\n",
    "sen_ten = []\n",
    "\n",
    "\n",
    "for i in range(batch_size):\n",
    "    sen = toks[i]\n",
    "    if '[PAD]' in sen:\n",
    "        before_pad = sen[:sen.index('[PAD]')]\n",
    "    else:\n",
    "        before_pad = sen\n",
    "    for j in range(num_tok_samples):\n",
    "        merge = before_pad + [str(next_tokens[i,j])]\n",
    "        sen_ten.append(tokenizer.convert_tokens_to_ids(merge))\n",
    "\n",
    "max_len = max(len(seq) for seq in sen_ten)\n",
    "print(max_len)\n",
    "\n",
    "padded_inputs = [\n",
    "    seq + [tokenizer.pad_token_id] * (max_len - len(seq)) for seq in sen_ten\n",
    "]\n",
    "\n",
    "input_ids = torch.tensor(padded_inputs)\n",
    "attention_mask = (input_ids != tokenizer.pad_token_id).long()\n",
    "\n",
    "inputs = input_ids, attention_mask\n",
    "\n",
    "res, to = layer.batch_activations(inputs, tokens='last', tokenized_prior=True)\n",
    "\n",
    "print(res.shape)"
   ]
  },
  {
   "cell_type": "code",
   "execution_count": null,
   "metadata": {},
   "outputs": [],
   "source": []
  }
 ],
 "metadata": {
  "kernelspec": {
   "display_name": "chenv",
   "language": "python",
   "name": "python3"
  },
  "language_info": {
   "codemirror_mode": {
    "name": "ipython",
    "version": 3
   },
   "file_extension": ".py",
   "mimetype": "text/x-python",
   "name": "python",
   "nbconvert_exporter": "python",
   "pygments_lexer": "ipython3",
   "version": "3.11.8"
  }
 },
 "nbformat": 4,
 "nbformat_minor": 2
}
