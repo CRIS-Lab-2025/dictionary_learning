{
 "cells": [
  {
   "cell_type": "code",
   "execution_count": null,
   "metadata": {},
   "outputs": [],
   "source": [
    "from trees import TreeMaker\n",
    "from wrappers import GPTneoX_DenseWrapper, ActivationWrapper\n",
    "\n",
    "import torch\n",
    "import numpy as np\n",
    "import umap\n",
    "import plotly.graph_objects as go"
   ]
  },
  {
   "cell_type": "code",
   "execution_count": null,
   "metadata": {},
   "outputs": [],
   "source": [
    "# Install 'desc2025.xml' from MeSH website\n",
    "tm = TreeMaker('desc2025.xml')"
   ]
  },
  {
   "cell_type": "code",
   "execution_count": null,
   "metadata": {},
   "outputs": [],
   "source": [
    "# View MeSH online browser to select a base tree number\n",
    "key = 'G'\n",
    "\n",
    "G, names = tm.tree_from_key(key, max_depth=0)\n",
    "print(names)"
   ]
  },
  {
   "cell_type": "code",
   "execution_count": null,
   "metadata": {},
   "outputs": [],
   "source": [
    "model = \"EleutherAI/pythia-2.8b-deduped\"\n",
    "wrapper = ActivationWrapper(model)\n",
    "\n",
    "layer_num = 3\n",
    "layer = wrapper.make_layer_wrapper(layer_num, 'mlp')"
   ]
  },
  {
   "cell_type": "code",
   "execution_count": null,
   "metadata": {},
   "outputs": [],
   "source": [
    "wrapper.batch_logits(names, tokens = 'all').shape"
   ]
  },
  {
   "cell_type": "code",
   "execution_count": null,
   "metadata": {},
   "outputs": [],
   "source": [
    "vocab_dict = wrapper.get_vocab()"
   ]
  },
  {
   "cell_type": "code",
   "execution_count": null,
   "metadata": {},
   "outputs": [],
   "source": [
    "all_acts, all_toks = layer.batch_activations(names)\n",
    "last_acts, last_toks = layer.batch_activations(names, tokens='last')\n",
    "\n",
    "print(last_acts.shape)\n",
    "\n",
    "distances = torch.cdist(last_acts, last_acts, p=2)"
   ]
  },
  {
   "cell_type": "code",
   "execution_count": null,
   "metadata": {},
   "outputs": [],
   "source": [
    "umapper = umap.UMAP(n_components=3)\n",
    "emb = umapper.fit_transform(last_acts.detach().numpy())\n",
    "print(emb.shape)\n",
    "\n",
    "x, y, z = emb[:, 0], emb[:, 1], emb[:, 2]\n",
    "fig = go.Figure(data=[go.Scatter3d(\n",
    "    x=x,\n",
    "    y=y,\n",
    "    z=z,\n",
    "    mode='markers',\n",
    "    marker=dict(\n",
    "        size=4,\n",
    "        opacity=0.8\n",
    "    ),\n",
    "    text=names,\n",
    "    hoverinfo='text'        \n",
    ")])\n",
    "\n",
    "fig.update_layout(\n",
    "    scene=dict(\n",
    "        xaxis_title='X',\n",
    "        yaxis_title='Y',\n",
    "        zaxis_title='Z'\n",
    "    ),\n",
    "    margin=dict(l=0, r=0, b=0, t=0)\n",
    ")\n"
   ]
  }
 ],
 "metadata": {
  "kernelspec": {
   "display_name": "chenv",
   "language": "python",
   "name": "python3"
  },
  "language_info": {
   "codemirror_mode": {
    "name": "ipython",
    "version": 3
   },
   "file_extension": ".py",
   "mimetype": "text/x-python",
   "name": "python",
   "nbconvert_exporter": "python",
   "pygments_lexer": "ipython3",
   "version": "3.11.8"
  }
 },
 "nbformat": 4,
 "nbformat_minor": 2
}
