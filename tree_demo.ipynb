{
 "cells": [
  {
   "cell_type": "code",
   "execution_count": 1,
   "metadata": {},
   "outputs": [
    {
     "name": "stderr",
     "output_type": "stream",
     "text": [
      "/Users/collinszczepanski/Code/cris/LLM/chenv/lib/python3.11/site-packages/tqdm/auto.py:21: TqdmWarning: IProgress not found. Please update jupyter and ipywidgets. See https://ipywidgets.readthedocs.io/en/stable/user_install.html\n",
      "  from .autonotebook import tqdm as notebook_tqdm\n"
     ]
    }
   ],
   "source": [
    "from trees import TreeMaker\n",
    "from wrappers import GPTneoX_DenseWrapper, ActivationWrapper\n",
    "\n",
    "import torch\n",
    "import numpy as np"
   ]
  },
  {
   "cell_type": "code",
   "execution_count": 2,
   "metadata": {},
   "outputs": [],
   "source": [
    "# Install 'desc2025.xml' from MeSH website\n",
    "tm = TreeMaker('desc2025.xml')"
   ]
  },
  {
   "cell_type": "code",
   "execution_count": 3,
   "metadata": {},
   "outputs": [
    {
     "name": "stdout",
     "output_type": "stream",
     "text": [
      "('Endocrine Glands', 'Adrenal Glands', 'Gonads', 'Islets of Langerhans', 'Parathyroid Glands', 'Pineal Gland', 'Pituitary Gland', 'Pituitary-Adrenal System', 'Thyroid Gland', 'Adrenal Cortex', 'Adrenal Medulla', 'Ovary', 'Pituitary Gland, Anterior', 'Pituitary Gland, Posterior', 'Testis', 'Somatostatin-Secreting Cells', 'Glucagon-Secreting Cells', 'Insulin-Secreting Cells', 'Pancreatic Polypeptide-Secreting Cells', 'Pituitary Gland, Intermediate', 'Corpus Luteum', 'Ovarian Follicle', 'Leydig Cells', 'Zona Fasciculata', 'Zona Glomerulosa', 'Zona Reticularis', 'Corticotrophs', 'Gonadotrophs', 'Lactotrophs', 'Somatotrophs', 'Thyrotrophs', 'Melanotrophs', 'Sympathoadrenal System', 'Granulosa Cells', 'Luteal Cells', 'Theca Cells', 'Follicular Fluid', 'Cumulus Cells')\n"
     ]
    }
   ],
   "source": [
    "key = 'A06.300'\n",
    "\n",
    "G, names = tm.tree_from_key(key)\n",
    "print(names)"
   ]
  },
  {
   "cell_type": "code",
   "execution_count": 4,
   "metadata": {},
   "outputs": [
    {
     "name": "stderr",
     "output_type": "stream",
     "text": [
      "The `GPTNeoXSdpaAttention` class is deprecated in favor of simply modifying the `config._attn_implementation`attribute of the `GPTNeoXAttention` class! It will be removed in v4.48\n"
     ]
    }
   ],
   "source": [
    "model = \"EleutherAI/pythia-410m-deduped\"\n",
    "layer_num = -1\n",
    "\n",
    "wrapper = ActivationWrapper(model)\n",
    "layer = wrapper.make_layer_wrapper(layer_num, 'mlp')"
   ]
  },
  {
   "cell_type": "code",
   "execution_count": 6,
   "metadata": {},
   "outputs": [
    {
     "name": "stdout",
     "output_type": "stream",
     "text": [
      "['Ġcells' ',' 'Ġislets' ... 'estamp' 'curs' 'ocur']\n"
     ]
    }
   ],
   "source": [
    "vocab_dict, rev_vocab = wrapper.get_vocab()\n",
    "\n",
    "\n",
    "logits = wrapper.batch_logits(names, tokens = 'last')\n",
    "logits, indices = logits.sort(dim=1, descending=True)\n",
    "\n",
    "indices = indices.tolist()\n",
    "pred_tokens = np.array([[vocab_dict[idx] for idx in row] for row in indices], dtype=str)\n",
    "print(pred_tokens[3])\n",
    "\n",
    "#logit_val = \n",
    "\n",
    "\n",
    "\n",
    "probs = torch.nn.functional.softmax(logits, dim=1)\n",
    "samples = torch.multinomial(probs, num_samples=100, replacement=True)\n",
    "samples = samples.tolist()\n",
    "sample_tokens = np.array([[vocab_dict[idx] for idx in row] for row in samples], dtype=str)\n",
    "\n"
   ]
  },
  {
   "cell_type": "code",
   "execution_count": null,
   "metadata": {},
   "outputs": [],
   "source": [
    "vocab_dict = wrapper.get_vocab()"
   ]
  },
  {
   "cell_type": "code",
   "execution_count": null,
   "metadata": {},
   "outputs": [],
   "source": [
    "print(vocab_dict)"
   ]
  },
  {
   "cell_type": "code",
   "execution_count": null,
   "metadata": {},
   "outputs": [],
   "source": [
    "values, indices = tensor.sort(dim=1, descending=True)"
   ]
  },
  {
   "cell_type": "code",
   "execution_count": null,
   "metadata": {},
   "outputs": [],
   "source": [
    "all_acts, all_toks = layer.batch_activations(names)\n",
    "#last_acts, last_toks = layer.batch_activations(names, tokens='last')\n",
    "\n",
    "#print(layer.act)\n",
    "\n",
    "\n",
    "#distances = torch.cdist(last_acts, last_acts, p=2)"
   ]
  },
  {
   "cell_type": "code",
   "execution_count": null,
   "metadata": {},
   "outputs": [],
   "source": [
    "print(distances)"
   ]
  }
 ],
 "metadata": {
  "kernelspec": {
   "display_name": "chenv",
   "language": "python",
   "name": "python3"
  },
  "language_info": {
   "codemirror_mode": {
    "name": "ipython",
    "version": 3
   },
   "file_extension": ".py",
   "mimetype": "text/x-python",
   "name": "python",
   "nbconvert_exporter": "python",
   "pygments_lexer": "ipython3",
   "version": "3.11.8"
  }
 },
 "nbformat": 4,
 "nbformat_minor": 2
}
