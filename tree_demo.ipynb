{
 "cells": [
  {
   "cell_type": "code",
   "execution_count": 10,
   "metadata": {},
   "outputs": [],
   "source": [
    "from trees import TreeMaker\n",
    "from wrappers import GPTneoX_DenseWrapper, ActivationWrapper\n",
    "\n",
    "import torch\n",
    "import numpy as np"
   ]
  },
  {
   "cell_type": "code",
   "execution_count": 2,
   "metadata": {},
   "outputs": [],
   "source": [
    "# Install 'desc2025.xml' from MeSH website\n",
    "tm = TreeMaker('desc2025.xml')"
   ]
  },
  {
   "cell_type": "code",
   "execution_count": 3,
   "metadata": {},
   "outputs": [
    {
     "name": "stdout",
     "output_type": "stream",
     "text": [
      "('Endocrine Glands', 'Adrenal Glands', 'Gonads', 'Islets of Langerhans', 'Parathyroid Glands', 'Pineal Gland', 'Pituitary Gland', 'Pituitary-Adrenal System', 'Thyroid Gland', 'Adrenal Cortex', 'Adrenal Medulla', 'Ovary', 'Pituitary Gland, Anterior', 'Pituitary Gland, Posterior', 'Testis', 'Somatostatin-Secreting Cells', 'Glucagon-Secreting Cells', 'Insulin-Secreting Cells', 'Pancreatic Polypeptide-Secreting Cells', 'Pituitary Gland, Intermediate', 'Corpus Luteum', 'Ovarian Follicle', 'Leydig Cells', 'Zona Fasciculata', 'Zona Glomerulosa', 'Zona Reticularis', 'Corticotrophs', 'Gonadotrophs', 'Lactotrophs', 'Somatotrophs', 'Thyrotrophs', 'Melanotrophs', 'Sympathoadrenal System', 'Granulosa Cells', 'Luteal Cells', 'Theca Cells', 'Follicular Fluid', 'Cumulus Cells')\n"
     ]
    }
   ],
   "source": [
    "key = 'A06.300'\n",
    "\n",
    "G, names = tm.tree_from_key(key)\n",
    "print(names)"
   ]
  },
  {
   "cell_type": "code",
   "execution_count": 4,
   "metadata": {},
   "outputs": [
    {
     "name": "stderr",
     "output_type": "stream",
     "text": [
      "The `GPTNeoXSdpaAttention` class is deprecated in favor of simply modifying the `config._attn_implementation`attribute of the `GPTNeoXAttention` class! It will be removed in v4.48\n"
     ]
    }
   ],
   "source": [
    "model = \"EleutherAI/pythia-70m-deduped\"\n",
    "layer_num = 3\n",
    "\n",
    "wrapper = ActivationWrapper(model)\n",
    "layer = wrapper.make_layer_wrapper(layer_num, 'mlp')"
   ]
  },
  {
   "cell_type": "code",
   "execution_count": 12,
   "metadata": {},
   "outputs": [
    {
     "name": "stdout",
     "output_type": "stream",
     "text": [
      "torch.Size([38, 38])\n"
     ]
    }
   ],
   "source": [
    "all_acts, all_toks = layer.batch_activations(names)\n",
    "last_acts, last_toks = layer.batch_activations(names, tokens='last')\n",
    "\n",
    "distances = torch.cdist(last_acts, last_acts, p=2)"
   ]
  }
 ],
 "metadata": {
  "kernelspec": {
   "display_name": "chenv",
   "language": "python",
   "name": "python3"
  },
  "language_info": {
   "codemirror_mode": {
    "name": "ipython",
    "version": 3
   },
   "file_extension": ".py",
   "mimetype": "text/x-python",
   "name": "python",
   "nbconvert_exporter": "python",
   "pygments_lexer": "ipython3",
   "version": "3.11.8"
  }
 },
 "nbformat": 4,
 "nbformat_minor": 2
}
