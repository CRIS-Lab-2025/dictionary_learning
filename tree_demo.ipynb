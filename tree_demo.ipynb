{
 "cells": [
  {
   "cell_type": "code",
   "execution_count": 2,
   "metadata": {},
   "outputs": [
    {
     "name": "stderr",
     "output_type": "stream",
     "text": [
      "/Users/collinszczepanski/Code/cris/LLM/chenv/lib/python3.11/site-packages/tqdm/auto.py:21: TqdmWarning: IProgress not found. Please update jupyter and ipywidgets. See https://ipywidgets.readthedocs.io/en/stable/user_install.html\n",
      "  from .autonotebook import tqdm as notebook_tqdm\n"
     ]
    }
   ],
   "source": [
    "from trees import Tree\n",
    "from wrappers import GPTneoX_DenseWrapper, ActivationWrapper\n",
    "\n",
    "import torch\n",
    "import numpy as np\n",
    "import umap\n",
    "import plotly.graph_objects as go"
   ]
  },
  {
   "cell_type": "code",
   "execution_count": 33,
   "metadata": {},
   "outputs": [],
   "source": [
    "names = ['The lungs turn', 'The lungs suppy the', 'The lungs work by', 'The lungs'\n",
    "         'The lungs use', 'The lungs are made of']"
   ]
  },
  {
   "cell_type": "code",
   "execution_count": 24,
   "metadata": {},
   "outputs": [],
   "source": [
    "model = \"EleutherAI/pythia-1.4b-deduped\"\n",
    "wrapper = ActivationWrapper(model)\n",
    "\n",
    "layer_num = -3\n",
    "layer = wrapper.make_layer_wrapper(layer_num, 'mlp')"
   ]
  },
  {
   "cell_type": "code",
   "execution_count": 25,
   "metadata": {},
   "outputs": [
    {
     "data": {
      "text/plain": [
       "torch.Size([3, 5, 50278])"
      ]
     },
     "execution_count": 25,
     "metadata": {},
     "output_type": "execute_result"
    }
   ],
   "source": [
    "wrapper.batch_logits(names, tokens = 'all').shape"
   ]
  },
  {
   "cell_type": "code",
   "execution_count": 26,
   "metadata": {},
   "outputs": [],
   "source": [
    "vocab_dict = wrapper.get_vocab()\n",
    "reversed_dict = {v: k for k, v in vocab_dict.items()}"
   ]
  },
  {
   "cell_type": "code",
   "execution_count": 27,
   "metadata": {},
   "outputs": [
    {
     "name": "stdout",
     "output_type": "stream",
     "text": [
      "torch.Size([3, 5, 2048])\n"
     ]
    }
   ],
   "source": [
    "#all_acts, all_toks = layer.batch_activations(names)\n",
    "last_acts, last_toks = layer.batch_activations(names, tokens='all')\n",
    "\n",
    "print(last_acts.shape)\n",
    "\n",
    "distances = torch.cdist(last_acts, last_acts, p=2)"
   ]
  },
  {
   "cell_type": "code",
   "execution_count": 34,
   "metadata": {},
   "outputs": [
    {
     "name": "stdout",
     "output_type": "stream",
     "text": [
      "['The lungs turn into', 'The lungs suppy the blood', 'The lungs work by breathing', 'The lungsThe lungs use oxygen', 'The lungs are made of two', 'The lungs turn into a', 'The lungs suppy the blood and', 'The lungs work by breathing in', 'The lungsThe lungs use oxygen to', 'The lungs are made of two types', 'The lungs turn into a giant', 'The lungs suppy the blood and oxygen', 'The lungs work by breathing in oxygen', 'The lungsThe lungs use oxygen to breathe', 'The lungs are made of two types of', 'The lungs turn into a giant sponge', 'The lungs suppy the blood and oxygen to', 'The lungs work by breathing in oxygen and', 'The lungsThe lungs use oxygen to breathe.', 'The lungs are made of two types of tissue', 'The lungs turn into a giant sponge,', 'The lungs suppy the blood and oxygen to the', 'The lungs work by breathing in oxygen and exh', 'The lungsThe lungs use oxygen to breathe. The', 'The lungs are made of two types of tissue:', 'The lungs turn into a giant sponge, absorbing', 'The lungs suppy the blood and oxygen to the body', 'The lungs work by breathing in oxygen and exhaling', 'The lungsThe lungs use oxygen to breathe. The lungs', 'The lungs are made of two types of tissue: the', 'The lungs turn into a giant sponge, absorbing and', 'The lungs suppy the blood and oxygen to the body.', 'The lungs work by breathing in oxygen and exhaling carbon', 'The lungsThe lungs use oxygen to breathe. The lungs are', 'The lungs are made of two types of tissue: the al', 'The lungs turn into a giant sponge, absorbing and storing', 'The lungs suppy the blood and oxygen to the body. The', 'The lungs work by breathing in oxygen and exhaling carbon dioxide', 'The lungsThe lungs use oxygen to breathe. The lungs are made', 'The lungs are made of two types of tissue: the alve', 'The lungs turn into a giant sponge, absorbing and storing the', 'The lungs suppy the blood and oxygen to the body. The blood', 'The lungs work by breathing in oxygen and exhaling carbon dioxide.', 'The lungsThe lungs use oxygen to breathe. The lungs are made up', 'The lungs are made of two types of tissue: the alveoli', 'The lungs turn into a giant sponge, absorbing and storing the carbon', 'The lungs suppy the blood and oxygen to the body. The blood is', 'The lungs work by breathing in oxygen and exhaling carbon dioxide. The', 'The lungsThe lungs use oxygen to breathe. The lungs are made up of', 'The lungs are made of two types of tissue: the alveoli and', 'The lungs turn into a giant sponge, absorbing and storing the carbon dioxide', 'The lungs suppy the blood and oxygen to the body. The blood is pumped', 'The lungs work by breathing in oxygen and exhaling carbon dioxide. The lungs', 'The lungsThe lungs use oxygen to breathe. The lungs are made up of two', 'The lungs are made of two types of tissue: the alveoli and the', 'The lungs turn into a giant sponge, absorbing and storing the carbon dioxide.', 'The lungs suppy the blood and oxygen to the body. The blood is pumped to', 'The lungs work by breathing in oxygen and exhaling carbon dioxide. The lungs are', 'The lungsThe lungs use oxygen to breathe. The lungs are made up of two main', 'The lungs are made of two types of tissue: the alveoli and the bron', 'The lungs turn into a giant sponge, absorbing and storing the carbon dioxide.\\n', 'The lungs suppy the blood and oxygen to the body. The blood is pumped to the', 'The lungs work by breathing in oxygen and exhaling carbon dioxide. The lungs are made', 'The lungsThe lungs use oxygen to breathe. The lungs are made up of two main parts', 'The lungs are made of two types of tissue: the alveoli and the bronchi', 'The lungs turn into a giant sponge, absorbing and storing the carbon dioxide.\\n\\n', 'The lungs suppy the blood and oxygen to the body. The blood is pumped to the heart', 'The lungs work by breathing in oxygen and exhaling carbon dioxide. The lungs are made up', 'The lungsThe lungs use oxygen to breathe. The lungs are made up of two main parts:', 'The lungs are made of two types of tissue: the alveoli and the bronchi.', 'The lungs turn into a giant sponge, absorbing and storing the carbon dioxide.\\n\\n  ', 'The lungs suppy the blood and oxygen to the body. The blood is pumped to the heart and', 'The lungs work by breathing in oxygen and exhaling carbon dioxide. The lungs are made up of', 'The lungsThe lungs use oxygen to breathe. The lungs are made up of two main parts: the', 'The lungs are made of two types of tissue: the alveoli and the bronchi. The']\n",
      "[0, 0, 0, 0, 0, 1, 1, 1, 1, 1, 2, 2, 2, 2, 2, 3, 3, 3, 3, 3, 4, 4, 4, 4, 4, 5, 5, 5, 5, 5, 6, 6, 6, 6, 6, 7, 7, 7, 7, 7, 8, 8, 8, 8, 8, 9, 9, 9, 9, 9, 10, 10, 10, 10, 10, 11, 11, 11, 11, 11, 12, 12, 12, 12, 12, 13, 13, 13, 13, 13, 14, 14, 14, 14, 14]\n",
      "(75, 2048)\n"
     ]
    }
   ],
   "source": [
    "num_tok_samples = 1\n",
    "temp = 0.1\n",
    "all_to_embed = []\n",
    "colors = []\n",
    "\n",
    "num_gens = 15\n",
    "\n",
    "hold_sens = names\n",
    "\n",
    "acts = []\n",
    "\n",
    "for i in range(num_gens):\n",
    "    thing, new_sens = wrapper.generate_and_prepare(hold_sens, num_tok_samples, temp)\n",
    "    res, to = layer.batch_activations(thing, tokens='last', tokenized_prior=True)\n",
    "    all_to_embed.extend(new_sens)\n",
    "    blue = [i] * len(new_sens)\n",
    "    colors.extend(blue)\n",
    "    hold_sens = new_sens\n",
    "    acts.append(res.detach().numpy())\n",
    "\n",
    "print(all_to_embed)\n",
    "print(colors)\n",
    "\n",
    "colors = np.array(colors)\n",
    "colors = colors.astype(float)\n",
    "colors = (colors - colors.min()) / (colors.max() - colors.min())\n",
    "\n",
    "acts = np.concatenate(acts, axis=0)\n",
    "print(acts.shape)\n"
   ]
  },
  {
   "cell_type": "code",
   "execution_count": 35,
   "metadata": {},
   "outputs": [
    {
     "name": "stdout",
     "output_type": "stream",
     "text": [
      "(75, 3)\n"
     ]
    },
    {
     "name": "stderr",
     "output_type": "stream",
     "text": [
      "/Users/collinszczepanski/Code/cris/LLM/chenv/lib/python3.11/site-packages/sklearn/utils/deprecation.py:151: FutureWarning:\n",
      "\n",
      "'force_all_finite' was renamed to 'ensure_all_finite' in 1.6 and will be removed in 1.8.\n",
      "\n"
     ]
    },
    {
     "data": {
      "application/vnd.plotly.v1+json": {
       "config": {
        "plotlyServerURL": "https://plot.ly"
       },
       "data": [
        {
         "hoverinfo": "text",
         "marker": {
          "color": {
           "bdata": "AAAAAAAAAAAAAAAAAAAAAAAAAAAAAAAAAAAAAAAAAAAAAAAAAAAAAJIkSZIkSbI/kiRJkiRJsj+SJEmSJEmyP5IkSZIkSbI/kiRJkiRJsj+SJEmSJEnCP5IkSZIkScI/kiRJkiRJwj+SJEmSJEnCP5IkSZIkScI/27Zt27Ztyz/btm3btm3LP9u2bdu2bcs/27Zt27Ztyz/btm3btm3LP5IkSZIkSdI/kiRJkiRJ0j+SJEmSJEnSP5IkSZIkSdI/kiRJkiRJ0j+3bdu2bdvWP7dt27Zt29Y/t23btm3b1j+3bdu2bdvWP7dt27Zt29Y/27Zt27Zt2z/btm3btm3bP9u2bdu2bds/27Zt27Zt2z/btm3btm3bPwAAAAAAAOA/AAAAAAAA4D8AAAAAAADgPwAAAAAAAOA/AAAAAAAA4D+SJEmSJEniP5IkSZIkSeI/kiRJkiRJ4j+SJEmSJEniP5IkSZIkSeI/JUmSJEmS5D8lSZIkSZLkPyVJkiRJkuQ/JUmSJEmS5D8lSZIkSZLkP7dt27Zt2+Y/t23btm3b5j+3bdu2bdvmP7dt27Zt2+Y/t23btm3b5j9JkiRJkiTpP0mSJEmSJOk/SZIkSZIk6T9JkiRJkiTpP0mSJEmSJOk/27Zt27Zt6z/btm3btm3rP9u2bdu2bes/27Zt27Zt6z/btm3btm3rP27btm3btu0/btu2bdu27T9u27Zt27btP27btm3btu0/btu2bdu27T8AAAAAAADwPwAAAAAAAPA/AAAAAAAA8D8AAAAAAADwPwAAAAAAAPA/",
           "dtype": "f8"
          },
          "colorscale": [
           [
            0,
            "#440154"
           ],
           [
            0.1111111111111111,
            "#482878"
           ],
           [
            0.2222222222222222,
            "#3e4989"
           ],
           [
            0.3333333333333333,
            "#31688e"
           ],
           [
            0.4444444444444444,
            "#26828e"
           ],
           [
            0.5555555555555556,
            "#1f9e89"
           ],
           [
            0.6666666666666666,
            "#35b779"
           ],
           [
            0.7777777777777778,
            "#6ece58"
           ],
           [
            0.8888888888888888,
            "#b5de2b"
           ],
           [
            1,
            "#fde725"
           ]
          ],
          "opacity": 0.8,
          "size": 4
         },
         "mode": "markers",
         "text": [
          "The lungs turn into",
          "The lungs suppy the blood",
          "The lungs work by breathing",
          "The lungsThe lungs use oxygen",
          "The lungs are made of two",
          "The lungs turn into a",
          "The lungs suppy the blood and",
          "The lungs work by breathing in",
          "The lungsThe lungs use oxygen to",
          "The lungs are made of two types",
          "The lungs turn into a giant",
          "The lungs suppy the blood and oxygen",
          "The lungs work by breathing in oxygen",
          "The lungsThe lungs use oxygen to breathe",
          "The lungs are made of two types of",
          "The lungs turn into a giant sponge",
          "The lungs suppy the blood and oxygen to",
          "The lungs work by breathing in oxygen and",
          "The lungsThe lungs use oxygen to breathe.",
          "The lungs are made of two types of tissue",
          "The lungs turn into a giant sponge,",
          "The lungs suppy the blood and oxygen to the",
          "The lungs work by breathing in oxygen and exh",
          "The lungsThe lungs use oxygen to breathe. The",
          "The lungs are made of two types of tissue:",
          "The lungs turn into a giant sponge, absorbing",
          "The lungs suppy the blood and oxygen to the body",
          "The lungs work by breathing in oxygen and exhaling",
          "The lungsThe lungs use oxygen to breathe. The lungs",
          "The lungs are made of two types of tissue: the",
          "The lungs turn into a giant sponge, absorbing and",
          "The lungs suppy the blood and oxygen to the body.",
          "The lungs work by breathing in oxygen and exhaling carbon",
          "The lungsThe lungs use oxygen to breathe. The lungs are",
          "The lungs are made of two types of tissue: the al",
          "The lungs turn into a giant sponge, absorbing and storing",
          "The lungs suppy the blood and oxygen to the body. The",
          "The lungs work by breathing in oxygen and exhaling carbon dioxide",
          "The lungsThe lungs use oxygen to breathe. The lungs are made",
          "The lungs are made of two types of tissue: the alve",
          "The lungs turn into a giant sponge, absorbing and storing the",
          "The lungs suppy the blood and oxygen to the body. The blood",
          "The lungs work by breathing in oxygen and exhaling carbon dioxide.",
          "The lungsThe lungs use oxygen to breathe. The lungs are made up",
          "The lungs are made of two types of tissue: the alveoli",
          "The lungs turn into a giant sponge, absorbing and storing the carbon",
          "The lungs suppy the blood and oxygen to the body. The blood is",
          "The lungs work by breathing in oxygen and exhaling carbon dioxide. The",
          "The lungsThe lungs use oxygen to breathe. The lungs are made up of",
          "The lungs are made of two types of tissue: the alveoli and",
          "The lungs turn into a giant sponge, absorbing and storing the carbon dioxide",
          "The lungs suppy the blood and oxygen to the body. The blood is pumped",
          "The lungs work by breathing in oxygen and exhaling carbon dioxide. The lungs",
          "The lungsThe lungs use oxygen to breathe. The lungs are made up of two",
          "The lungs are made of two types of tissue: the alveoli and the",
          "The lungs turn into a giant sponge, absorbing and storing the carbon dioxide.",
          "The lungs suppy the blood and oxygen to the body. The blood is pumped to",
          "The lungs work by breathing in oxygen and exhaling carbon dioxide. The lungs are",
          "The lungsThe lungs use oxygen to breathe. The lungs are made up of two main",
          "The lungs are made of two types of tissue: the alveoli and the bron",
          "The lungs turn into a giant sponge, absorbing and storing the carbon dioxide.\n",
          "The lungs suppy the blood and oxygen to the body. The blood is pumped to the",
          "The lungs work by breathing in oxygen and exhaling carbon dioxide. The lungs are made",
          "The lungsThe lungs use oxygen to breathe. The lungs are made up of two main parts",
          "The lungs are made of two types of tissue: the alveoli and the bronchi",
          "The lungs turn into a giant sponge, absorbing and storing the carbon dioxide.\n\n",
          "The lungs suppy the blood and oxygen to the body. The blood is pumped to the heart",
          "The lungs work by breathing in oxygen and exhaling carbon dioxide. The lungs are made up",
          "The lungsThe lungs use oxygen to breathe. The lungs are made up of two main parts:",
          "The lungs are made of two types of tissue: the alveoli and the bronchi.",
          "The lungs turn into a giant sponge, absorbing and storing the carbon dioxide.\n\n  ",
          "The lungs suppy the blood and oxygen to the body. The blood is pumped to the heart and",
          "The lungs work by breathing in oxygen and exhaling carbon dioxide. The lungs are made up of",
          "The lungsThe lungs use oxygen to breathe. The lungs are made up of two main parts: the",
          "The lungs are made of two types of tissue: the alveoli and the bronchi. The"
         ],
         "type": "scatter3d",
         "x": {
          "bdata": "9xWrQH8a0UB6wu9AkwffQOFNsECgzLZAwTfPQJ+v8EA3J9JAnzmPQJphu0BPHdpAXengQNN96UCzecZA95rSQHwgoUC23d5AqTrJQMWM2kDg28RA6dvPQMru2kA3v8ZA65K7QBgU6EDoytZAbybnQGexuEABGMJADfvTQOrQvUB6DdZAY72nQC0Y2UATPelAyVjOQGUj5kC13JRACXXVQFK94ED5u8xAZIy6QNJfkUAS+sxAz+veQLZ2ykBXp8tACyKxQMrdtEBVr+VAP7zbQEeuvEBWnLZA8hjGQC+pwUCzsphAeMymQJKrvUC7w91ABfzGQEDByUDL+JlAj3fTQCk0ykB7fL1A6djZQCA1lEDgG65AA9yzQMFAw0Dfw85AjiCnQPN4xUA3oNFA",
          "dtype": "f4"
         },
         "y": {
          "bdata": "JfedQD9nLEAy6lRA/CRUQBZaoUAS4ZpA33h7QK+4aUC2Fm1AOd+gQNR7n0A6iUpAK1BDQLMFOUCEAp1AAbMbQAmMmEBKk4FALo2DQNqhJECiBjxAkiKVQE5PmEAZEI9Aj/6kQDLbfUDvWRFABduEQCZ1cUDDCaZABVdxQNmPekCpb5NAinSQQMXRoEBmGYBAys+ZQDZcF0AR7ZdAFaqaQObDikCCS0JALRCGQD2ipkCsn0xA6VuRQATTVEDYsI5AX3evQGZPtEAp6StAV2o6QIRPZEB+r6ZAuSuwQPePf0DibZ1A7YeIQMqkrEA3PptAHQeXQK2zm0BAZp1AgtsrQNXEcECFQohASgcLQA7po0BAnbhAlrmIQA/JkEBFwGtAVOWtQMsvo0CiK5lA",
          "dtype": "f4"
         },
         "z": {
          "bdata": "IbFCQA+1HUAwRipA3fElQOr+jUAmWlJAGftfQDTNRECnb4NAnS0SQJNmZkC9nQ5A/IAPQFGD8T8S6a5AhALqPzCHL0AuTIlA2M3dPwu2yz+MoOs/hE6GQNq3v0Bd429ATYeoQBYiO0DIgfc/BsR5QBzkXUCmRq5AvemCQP8osD97ibdAb4tiQC5DvkCS9z9AhqJZQC0T7z/UngRAPKXDQF4OVEAFrUNAJZa2PzNPBEBB/tw/wlFfQOjKWkAFalNACLqcQDnkp0CvPQ1AlekxQASJT0DZ8pJA5/ixQLZ2wj/hMShAwntTQHkxkUDKXb9A638mQFWHhUAS6f0/jt+7PwipD0ANy/o/kyMCQPYZDUAVIqBAOEa9P5aTFkDOrWZAVzGbQI8mo0ATSLxA",
          "dtype": "f4"
         }
        }
       ],
       "layout": {
        "margin": {
         "b": 0,
         "l": 0,
         "r": 0,
         "t": 0
        },
        "scene": {
         "xaxis": {
          "title": {
           "text": "X"
          }
         },
         "yaxis": {
          "title": {
           "text": "Y"
          }
         },
         "zaxis": {
          "title": {
           "text": "Z"
          }
         }
        },
        "template": {
         "data": {
          "bar": [
           {
            "error_x": {
             "color": "#2a3f5f"
            },
            "error_y": {
             "color": "#2a3f5f"
            },
            "marker": {
             "line": {
              "color": "#E5ECF6",
              "width": 0.5
             },
             "pattern": {
              "fillmode": "overlay",
              "size": 10,
              "solidity": 0.2
             }
            },
            "type": "bar"
           }
          ],
          "barpolar": [
           {
            "marker": {
             "line": {
              "color": "#E5ECF6",
              "width": 0.5
             },
             "pattern": {
              "fillmode": "overlay",
              "size": 10,
              "solidity": 0.2
             }
            },
            "type": "barpolar"
           }
          ],
          "carpet": [
           {
            "aaxis": {
             "endlinecolor": "#2a3f5f",
             "gridcolor": "white",
             "linecolor": "white",
             "minorgridcolor": "white",
             "startlinecolor": "#2a3f5f"
            },
            "baxis": {
             "endlinecolor": "#2a3f5f",
             "gridcolor": "white",
             "linecolor": "white",
             "minorgridcolor": "white",
             "startlinecolor": "#2a3f5f"
            },
            "type": "carpet"
           }
          ],
          "choropleth": [
           {
            "colorbar": {
             "outlinewidth": 0,
             "ticks": ""
            },
            "type": "choropleth"
           }
          ],
          "contour": [
           {
            "colorbar": {
             "outlinewidth": 0,
             "ticks": ""
            },
            "colorscale": [
             [
              0,
              "#0d0887"
             ],
             [
              0.1111111111111111,
              "#46039f"
             ],
             [
              0.2222222222222222,
              "#7201a8"
             ],
             [
              0.3333333333333333,
              "#9c179e"
             ],
             [
              0.4444444444444444,
              "#bd3786"
             ],
             [
              0.5555555555555556,
              "#d8576b"
             ],
             [
              0.6666666666666666,
              "#ed7953"
             ],
             [
              0.7777777777777778,
              "#fb9f3a"
             ],
             [
              0.8888888888888888,
              "#fdca26"
             ],
             [
              1,
              "#f0f921"
             ]
            ],
            "type": "contour"
           }
          ],
          "contourcarpet": [
           {
            "colorbar": {
             "outlinewidth": 0,
             "ticks": ""
            },
            "type": "contourcarpet"
           }
          ],
          "heatmap": [
           {
            "colorbar": {
             "outlinewidth": 0,
             "ticks": ""
            },
            "colorscale": [
             [
              0,
              "#0d0887"
             ],
             [
              0.1111111111111111,
              "#46039f"
             ],
             [
              0.2222222222222222,
              "#7201a8"
             ],
             [
              0.3333333333333333,
              "#9c179e"
             ],
             [
              0.4444444444444444,
              "#bd3786"
             ],
             [
              0.5555555555555556,
              "#d8576b"
             ],
             [
              0.6666666666666666,
              "#ed7953"
             ],
             [
              0.7777777777777778,
              "#fb9f3a"
             ],
             [
              0.8888888888888888,
              "#fdca26"
             ],
             [
              1,
              "#f0f921"
             ]
            ],
            "type": "heatmap"
           }
          ],
          "histogram": [
           {
            "marker": {
             "pattern": {
              "fillmode": "overlay",
              "size": 10,
              "solidity": 0.2
             }
            },
            "type": "histogram"
           }
          ],
          "histogram2d": [
           {
            "colorbar": {
             "outlinewidth": 0,
             "ticks": ""
            },
            "colorscale": [
             [
              0,
              "#0d0887"
             ],
             [
              0.1111111111111111,
              "#46039f"
             ],
             [
              0.2222222222222222,
              "#7201a8"
             ],
             [
              0.3333333333333333,
              "#9c179e"
             ],
             [
              0.4444444444444444,
              "#bd3786"
             ],
             [
              0.5555555555555556,
              "#d8576b"
             ],
             [
              0.6666666666666666,
              "#ed7953"
             ],
             [
              0.7777777777777778,
              "#fb9f3a"
             ],
             [
              0.8888888888888888,
              "#fdca26"
             ],
             [
              1,
              "#f0f921"
             ]
            ],
            "type": "histogram2d"
           }
          ],
          "histogram2dcontour": [
           {
            "colorbar": {
             "outlinewidth": 0,
             "ticks": ""
            },
            "colorscale": [
             [
              0,
              "#0d0887"
             ],
             [
              0.1111111111111111,
              "#46039f"
             ],
             [
              0.2222222222222222,
              "#7201a8"
             ],
             [
              0.3333333333333333,
              "#9c179e"
             ],
             [
              0.4444444444444444,
              "#bd3786"
             ],
             [
              0.5555555555555556,
              "#d8576b"
             ],
             [
              0.6666666666666666,
              "#ed7953"
             ],
             [
              0.7777777777777778,
              "#fb9f3a"
             ],
             [
              0.8888888888888888,
              "#fdca26"
             ],
             [
              1,
              "#f0f921"
             ]
            ],
            "type": "histogram2dcontour"
           }
          ],
          "mesh3d": [
           {
            "colorbar": {
             "outlinewidth": 0,
             "ticks": ""
            },
            "type": "mesh3d"
           }
          ],
          "parcoords": [
           {
            "line": {
             "colorbar": {
              "outlinewidth": 0,
              "ticks": ""
             }
            },
            "type": "parcoords"
           }
          ],
          "pie": [
           {
            "automargin": true,
            "type": "pie"
           }
          ],
          "scatter": [
           {
            "fillpattern": {
             "fillmode": "overlay",
             "size": 10,
             "solidity": 0.2
            },
            "type": "scatter"
           }
          ],
          "scatter3d": [
           {
            "line": {
             "colorbar": {
              "outlinewidth": 0,
              "ticks": ""
             }
            },
            "marker": {
             "colorbar": {
              "outlinewidth": 0,
              "ticks": ""
             }
            },
            "type": "scatter3d"
           }
          ],
          "scattercarpet": [
           {
            "marker": {
             "colorbar": {
              "outlinewidth": 0,
              "ticks": ""
             }
            },
            "type": "scattercarpet"
           }
          ],
          "scattergeo": [
           {
            "marker": {
             "colorbar": {
              "outlinewidth": 0,
              "ticks": ""
             }
            },
            "type": "scattergeo"
           }
          ],
          "scattergl": [
           {
            "marker": {
             "colorbar": {
              "outlinewidth": 0,
              "ticks": ""
             }
            },
            "type": "scattergl"
           }
          ],
          "scattermap": [
           {
            "marker": {
             "colorbar": {
              "outlinewidth": 0,
              "ticks": ""
             }
            },
            "type": "scattermap"
           }
          ],
          "scattermapbox": [
           {
            "marker": {
             "colorbar": {
              "outlinewidth": 0,
              "ticks": ""
             }
            },
            "type": "scattermapbox"
           }
          ],
          "scatterpolar": [
           {
            "marker": {
             "colorbar": {
              "outlinewidth": 0,
              "ticks": ""
             }
            },
            "type": "scatterpolar"
           }
          ],
          "scatterpolargl": [
           {
            "marker": {
             "colorbar": {
              "outlinewidth": 0,
              "ticks": ""
             }
            },
            "type": "scatterpolargl"
           }
          ],
          "scatterternary": [
           {
            "marker": {
             "colorbar": {
              "outlinewidth": 0,
              "ticks": ""
             }
            },
            "type": "scatterternary"
           }
          ],
          "surface": [
           {
            "colorbar": {
             "outlinewidth": 0,
             "ticks": ""
            },
            "colorscale": [
             [
              0,
              "#0d0887"
             ],
             [
              0.1111111111111111,
              "#46039f"
             ],
             [
              0.2222222222222222,
              "#7201a8"
             ],
             [
              0.3333333333333333,
              "#9c179e"
             ],
             [
              0.4444444444444444,
              "#bd3786"
             ],
             [
              0.5555555555555556,
              "#d8576b"
             ],
             [
              0.6666666666666666,
              "#ed7953"
             ],
             [
              0.7777777777777778,
              "#fb9f3a"
             ],
             [
              0.8888888888888888,
              "#fdca26"
             ],
             [
              1,
              "#f0f921"
             ]
            ],
            "type": "surface"
           }
          ],
          "table": [
           {
            "cells": {
             "fill": {
              "color": "#EBF0F8"
             },
             "line": {
              "color": "white"
             }
            },
            "header": {
             "fill": {
              "color": "#C8D4E3"
             },
             "line": {
              "color": "white"
             }
            },
            "type": "table"
           }
          ]
         },
         "layout": {
          "annotationdefaults": {
           "arrowcolor": "#2a3f5f",
           "arrowhead": 0,
           "arrowwidth": 1
          },
          "autotypenumbers": "strict",
          "coloraxis": {
           "colorbar": {
            "outlinewidth": 0,
            "ticks": ""
           }
          },
          "colorscale": {
           "diverging": [
            [
             0,
             "#8e0152"
            ],
            [
             0.1,
             "#c51b7d"
            ],
            [
             0.2,
             "#de77ae"
            ],
            [
             0.3,
             "#f1b6da"
            ],
            [
             0.4,
             "#fde0ef"
            ],
            [
             0.5,
             "#f7f7f7"
            ],
            [
             0.6,
             "#e6f5d0"
            ],
            [
             0.7,
             "#b8e186"
            ],
            [
             0.8,
             "#7fbc41"
            ],
            [
             0.9,
             "#4d9221"
            ],
            [
             1,
             "#276419"
            ]
           ],
           "sequential": [
            [
             0,
             "#0d0887"
            ],
            [
             0.1111111111111111,
             "#46039f"
            ],
            [
             0.2222222222222222,
             "#7201a8"
            ],
            [
             0.3333333333333333,
             "#9c179e"
            ],
            [
             0.4444444444444444,
             "#bd3786"
            ],
            [
             0.5555555555555556,
             "#d8576b"
            ],
            [
             0.6666666666666666,
             "#ed7953"
            ],
            [
             0.7777777777777778,
             "#fb9f3a"
            ],
            [
             0.8888888888888888,
             "#fdca26"
            ],
            [
             1,
             "#f0f921"
            ]
           ],
           "sequentialminus": [
            [
             0,
             "#0d0887"
            ],
            [
             0.1111111111111111,
             "#46039f"
            ],
            [
             0.2222222222222222,
             "#7201a8"
            ],
            [
             0.3333333333333333,
             "#9c179e"
            ],
            [
             0.4444444444444444,
             "#bd3786"
            ],
            [
             0.5555555555555556,
             "#d8576b"
            ],
            [
             0.6666666666666666,
             "#ed7953"
            ],
            [
             0.7777777777777778,
             "#fb9f3a"
            ],
            [
             0.8888888888888888,
             "#fdca26"
            ],
            [
             1,
             "#f0f921"
            ]
           ]
          },
          "colorway": [
           "#636efa",
           "#EF553B",
           "#00cc96",
           "#ab63fa",
           "#FFA15A",
           "#19d3f3",
           "#FF6692",
           "#B6E880",
           "#FF97FF",
           "#FECB52"
          ],
          "font": {
           "color": "#2a3f5f"
          },
          "geo": {
           "bgcolor": "white",
           "lakecolor": "white",
           "landcolor": "#E5ECF6",
           "showlakes": true,
           "showland": true,
           "subunitcolor": "white"
          },
          "hoverlabel": {
           "align": "left"
          },
          "hovermode": "closest",
          "mapbox": {
           "style": "light"
          },
          "paper_bgcolor": "white",
          "plot_bgcolor": "#E5ECF6",
          "polar": {
           "angularaxis": {
            "gridcolor": "white",
            "linecolor": "white",
            "ticks": ""
           },
           "bgcolor": "#E5ECF6",
           "radialaxis": {
            "gridcolor": "white",
            "linecolor": "white",
            "ticks": ""
           }
          },
          "scene": {
           "xaxis": {
            "backgroundcolor": "#E5ECF6",
            "gridcolor": "white",
            "gridwidth": 2,
            "linecolor": "white",
            "showbackground": true,
            "ticks": "",
            "zerolinecolor": "white"
           },
           "yaxis": {
            "backgroundcolor": "#E5ECF6",
            "gridcolor": "white",
            "gridwidth": 2,
            "linecolor": "white",
            "showbackground": true,
            "ticks": "",
            "zerolinecolor": "white"
           },
           "zaxis": {
            "backgroundcolor": "#E5ECF6",
            "gridcolor": "white",
            "gridwidth": 2,
            "linecolor": "white",
            "showbackground": true,
            "ticks": "",
            "zerolinecolor": "white"
           }
          },
          "shapedefaults": {
           "line": {
            "color": "#2a3f5f"
           }
          },
          "ternary": {
           "aaxis": {
            "gridcolor": "white",
            "linecolor": "white",
            "ticks": ""
           },
           "baxis": {
            "gridcolor": "white",
            "linecolor": "white",
            "ticks": ""
           },
           "bgcolor": "#E5ECF6",
           "caxis": {
            "gridcolor": "white",
            "linecolor": "white",
            "ticks": ""
           }
          },
          "title": {
           "x": 0.05
          },
          "xaxis": {
           "automargin": true,
           "gridcolor": "white",
           "linecolor": "white",
           "ticks": "",
           "title": {
            "standoff": 15
           },
           "zerolinecolor": "white",
           "zerolinewidth": 2
          },
          "yaxis": {
           "automargin": true,
           "gridcolor": "white",
           "linecolor": "white",
           "ticks": "",
           "title": {
            "standoff": 15
           },
           "zerolinecolor": "white",
           "zerolinewidth": 2
          }
         }
        }
       }
      }
     },
     "metadata": {},
     "output_type": "display_data"
    }
   ],
   "source": [
    "umapper = umap.UMAP(n_components=3)\n",
    "emb = umapper.fit_transform(acts)\n",
    "print(emb.shape)\n",
    "\n",
    "x, y, z = emb[:, 0], emb[:, 1], emb[:, 2]\n",
    "fig = go.Figure(data=[go.Scatter3d(\n",
    "    x=x,\n",
    "    y=y,\n",
    "    z=z,\n",
    "    mode='markers',\n",
    "    marker=dict(\n",
    "        size=4,\n",
    "        color=colors,\n",
    "        colorscale = 'viridis',\n",
    "        opacity=0.8\n",
    "    ),\n",
    "    text=all_to_embed,\n",
    "    hoverinfo='text'        \n",
    ")])\n",
    "\n",
    "fig.update_layout(\n",
    "    scene=dict(\n",
    "        xaxis_title='X',\n",
    "        yaxis_title='Y',\n",
    "        zaxis_title='Z'\n",
    "    ),\n",
    "    margin=dict(l=0, r=0, b=0, t=0)\n",
    ")"
   ]
  }
 ],
 "metadata": {
  "kernelspec": {
   "display_name": "chenv",
   "language": "python",
   "name": "python3"
  },
  "language_info": {
   "codemirror_mode": {
    "name": "ipython",
    "version": 3
   },
   "file_extension": ".py",
   "mimetype": "text/x-python",
   "name": "python",
   "nbconvert_exporter": "python",
   "pygments_lexer": "ipython3",
   "version": "3.11.8"
  }
 },
 "nbformat": 4,
 "nbformat_minor": 2
}
