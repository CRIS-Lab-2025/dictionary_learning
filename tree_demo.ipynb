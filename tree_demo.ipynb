{
 "cells": [
  {
   "cell_type": "code",
   "execution_count": 1,
   "metadata": {},
   "outputs": [
    {
     "name": "stderr",
     "output_type": "stream",
     "text": [
      "/Users/collinszczepanski/Code/cris/LLM/chenv/lib/python3.11/site-packages/tqdm/auto.py:21: TqdmWarning: IProgress not found. Please update jupyter and ipywidgets. See https://ipywidgets.readthedocs.io/en/stable/user_install.html\n",
      "  from .autonotebook import tqdm as notebook_tqdm\n"
     ]
    }
   ],
   "source": [
    "from trees import TreeMaker\n",
    "from wrappers import GPTneoX_DenseWrapper, ActivationWrapper\n",
    "\n",
    "import torch\n",
    "import numpy as np\n",
    "import umap\n",
    "import plotly.graph_objects as go"
   ]
  },
  {
   "cell_type": "code",
   "execution_count": 2,
   "metadata": {},
   "outputs": [],
   "source": [
    "# Install 'desc2025.xml' from MeSH website\n",
    "tm = TreeMaker('desc2025.xml')"
   ]
  },
  {
   "cell_type": "code",
   "execution_count": 3,
   "metadata": {},
   "outputs": [],
   "source": [
    "# View MeSH online browser to select a base tree number\n",
    "key = 'E'\n",
    "\n",
    "G, names = tm.tree_from_key(key, max_depth=1)"
   ]
  },
  {
   "cell_type": "code",
   "execution_count": 4,
   "metadata": {},
   "outputs": [
    {
     "name": "stderr",
     "output_type": "stream",
     "text": [
      "The `GPTNeoXSdpaAttention` class is deprecated in favor of simply modifying the `config._attn_implementation`attribute of the `GPTNeoXAttention` class! It will be removed in v4.48\n"
     ]
    }
   ],
   "source": [
    "model = \"EleutherAI/pythia-2.8b-deduped\"\n",
    "layer_num = 3\n",
    "\n",
    "wrapper = ActivationWrapper(model)\n",
    "layer = wrapper.make_layer_wrapper(layer_num, 'mlp')"
   ]
  },
  {
   "cell_type": "code",
   "execution_count": 5,
   "metadata": {},
   "outputs": [
    {
     "data": {
      "text/plain": [
       "torch.Size([374, 50278])"
      ]
     },
     "execution_count": 5,
     "metadata": {},
     "output_type": "execute_result"
    }
   ],
   "source": [
    "wrapper.batch_logits(names, tokens = 'last').shape"
   ]
  },
  {
   "cell_type": "code",
   "execution_count": 6,
   "metadata": {},
   "outputs": [],
   "source": [
    "vocab_dict = wrapper.get_vocab()"
   ]
  },
  {
   "cell_type": "code",
   "execution_count": 8,
   "metadata": {},
   "outputs": [],
   "source": [
    "#all_acts, all_toks = layer.batch_activations(names)\n",
    "last_acts, last_toks = layer.batch_activations(names, tokens='last')\n",
    "\n",
    "distances = torch.cdist(last_acts, last_acts, p=2)"
   ]
  },
  {
   "cell_type": "code",
   "execution_count": 9,
   "metadata": {},
   "outputs": [
    {
     "name": "stderr",
     "output_type": "stream",
     "text": [
      "/Users/collinszczepanski/Code/cris/LLM/chenv/lib/python3.11/site-packages/sklearn/utils/deprecation.py:151: FutureWarning: 'force_all_finite' was renamed to 'ensure_all_finite' in 1.6 and will be removed in 1.8.\n",
      "  warnings.warn(\n",
      "OMP: Info #276: omp_set_nested routine deprecated, please use omp_set_max_active_levels instead.\n",
      "huggingface/tokenizers: The current process just got forked, after parallelism has already been used. Disabling parallelism to avoid deadlocks...\n",
      "To disable this warning, you can either:\n",
      "\t- Avoid using `tokenizers` before the fork if possible\n",
      "\t- Explicitly set the environment variable TOKENIZERS_PARALLELISM=(true | false)\n"
     ]
    },
    {
     "name": "stdout",
     "output_type": "stream",
     "text": [
      "(374, 3)\n"
     ]
    },
    {
     "data": {
      "application/vnd.plotly.v1+json": {
       "config": {
        "plotlyServerURL": "https://plot.ly"
       },
       "data": [
        {
         "hoverinfo": "text",
         "marker": {
          "opacity": 0.8,
          "size": 4
         },
         "mode": "markers",
         "text": [
          "Anesthesia and Analgesia",
          "Dentistry",
          "Diagnosis",
          "Equipment and Supplies",
          "Investigative Techniques",
          "Surgical Procedures, Operative",
          "Therapeutics",
          "Acoustic Stimulation",
          "Complementary Therapies",
          "Ambulatory Surgical Procedures",
          "Analgesia",
          "Anastomosis, Surgical",
          "Anesthesia",
          "Anesthesia Recovery Period",
          "Anesthesia, Dental",
          "Animal Identification Systems",
          "Anthropometry",
          "Assisted Circulation",
          "Atmosphere Exposure Chambers",
          "Autoanalysis",
          "Autopsy",
          "Balneology",
          "Bandages",
          "Bed Rest",
          "Biological Assay",
          "Biological Therapy",
          "Biopsy",
          "Blood Component Removal",
          "Dental Bonding",
          "Catheterization",
          "Catheterization",
          "Cautery",
          "Cementation",
          "Centrifugation",
          "Chemistry Techniques, Analytical",
          "Clinical Protocols",
          "Combined Modality Therapy",
          "Constriction",
          "Containment of Biohazards",
          "Contraceptive Devices",
          "Cosmetic Techniques",
          "Culture Media",
          "Curettage",
          "Cytological Techniques",
          "Debridement",
          "Decision Support Techniques",
          "Decompression",
          "Dental Care",
          "Dental Equipment",
          "Dental Equipment",
          "Dental Health Surveys",
          "Dental High-Speed Technique",
          "Models, Dental",
          "Dental Occlusion",
          "Dental Pins",
          "Dental Polishing",
          "Dental Stress Analysis",
          "Diagnosis, Computer-Assisted",
          "Diagnosis, Differential",
          "Diagnosis, Oral",
          "Diagnostic Errors",
          "Dilatation",
          "Disposable Equipment",
          "Dissection",
          "Drainage",
          "Drainage",
          "Drug Therapy",
          "Durable Medical Equipment",
          "Electrogalvanism, Intraoral",
          "Electronarcosis",
          "Electrosurgery",
          "Electric Stimulation Therapy",
          "Emergency Medical Tags",
          "Emergency Treatment",
          "Endodontics",
          "Epidemiologic Methods",
          "Equipment and Supplies, Hospital",
          "Equipment Design",
          "Equipment Failure",
          "Equipment Safety",
          "Esthetics, Dental",
          "Evaluation Studies as Topic",
          "Extracorporeal Circulation",
          "Feeding Methods",
          "Food Analysis",
          "Fourier Analysis",
          "Gravity Suits",
          "Games, Experimental",
          "Patient Care",
          "Genetic Techniques",
          "Hemodilution",
          "Hemostasis, Surgical",
          "Hemostatic Techniques",
          "Human Experimentation",
          "Hygiene",
          "Hyperthermia, Induced",
          "Hypotension, Controlled",
          "Immersion",
          "Immobilization",
          "Immunologic Techniques",
          "Incubators",
          "Indicator Dilution Techniques",
          "Infusion Pumps",
          "Insufflation",
          "Interferometry",
          "Intubation",
          "Intubation",
          "Therapeutic Irrigation",
          "Isotope Labeling",
          "Jaw Relation Record",
          "Laparotomy",
          "Ligation",
          "Lithotripsy",
          "Lymph Node Excision",
          "Manometry",
          "Mastectomy",
          "Materials Testing",
          "Methods",
          "Micromanipulation",
          "Micropore Filters",
          "Microscopy",
          "Microspheres",
          "Microsurgery",
          "Models, Theoretical",
          "Mouth Rehabilitation",
          "Nebulizers and Vaporizers",
          "Needles",
          "Neoplasm Transplantation",
          "Odontometry",
          "Orthodontics",
          "Orthoptics",
          "Oscillometry",
          "Ostomy",
          "Oxygenators",
          "Parabiosis",
          "Pathology, Oral",
          "Patient Isolation",
          "Pelvic Exenteration",
          "Perfusion",
          "Periodontics",
          "Photography",
          "Phototherapy",
          "Physical Stimulation",
          "Physiognomy",
          "Placebos",
          "Pneumonectomy",
          "Preanesthetic Medication",
          "Preservation, Biological",
          "Preservation, Biological",
          "Preventive Dentistry",
          "Prognosis",
          "Prosthodontics",
          "Protective Devices",
          "Psychological Techniques",
          "Punctures",
          "Punctures",
          "Radiometry",
          "Radiotherapy",
          "Reagent Kits, Diagnostic",
          "Rehabilitation",
          "Rejuvenation",
          "Remission Induction",
          "Reoperation",
          "Reproductive Techniques",
          "Reproductive Techniques",
          "Ventilators, Mechanical",
          "Respiratory Therapy",
          "Rheology",
          "Self Care",
          "Self-Help Devices",
          "Sensory Aids",
          "Sonication",
          "Sound Spectrography",
          "Splenectomy",
          "Stereotaxic Techniques",
          "Cardiovascular Surgical Procedures",
          "Digestive System Surgical Procedures",
          "Endocrine Surgical Procedures",
          "Ophthalmologic Surgical Procedures",
          "Minor Surgical Procedures",
          "Obstetric Surgical Procedures",
          "Surgery, Oral",
          "Otorhinolaryngologic Surgical Procedures",
          "Urogenital Surgical Procedures",
          "Surgical Equipment",
          "Symphysiotomy",
          "Syringes",
          "Technology, Dental",
          "Technology, Pharmaceutical",
          "Technology, Radiologic",
          "Telemetry",
          "Climatotherapy",
          "Therapy, Computer-Assisted",
          "Thermometers",
          "Tooth Remineralization",
          "Tourniquets",
          "Transplantation",
          "Weights and Measures",
          "Whole-Body Irradiation",
          "X-Ray Film",
          "X-Ray Intensifying Screens",
          "Diffusion Chambers, Culture",
          "Molecular Probe Techniques",
          "Infant Equipment",
          "Trauma Severity Indices",
          "Substance Abuse Detection",
          "Tomography Scanners, X-Ray Computed",
          "Gamma Cameras",
          "Gastric Balloon",
          "Gas Scavengers",
          "Sorption Detoxification",
          "Conscious Sedation",
          "Monitoring, Intraoperative",
          "Artifacts",
          "Ergometry",
          "Salvage Therapy",
          "Dental Debonding",
          "Elective Surgical Procedures",
          "Renal Replacement Therapy",
          "Cryotherapy",
          "Rewarming",
          "Equipment Reuse",
          "Prosthesis Fitting",
          "Diagnosis, Dual (Psychiatry)",
          "Weightlessness Simulation",
          "Weightlessness Countermeasures",
          "Toxicity Tests",
          "Bone Demineralization Technique",
          "Medicine Chests",
          "Phantoms, Imaging",
          "Minimally Invasive Surgical Procedures",
          "Neuromuscular Blockade",
          "Neuromuscular Blockade",
          "Bioreactors",
          "Ischemic Preconditioning",
          "Ischemic Preconditioning",
          "Retreatment",
          "Oral Medicine",
          "Tooth Preparation",
          "Decompression, Surgical",
          "Clinical Laboratory Techniques",
          "Chronotherapy",
          "Infection Control, Dental",
          "Thoracic Surgical Procedures",
          "Neurosurgical Procedures",
          "Orthopedic Procedures",
          "Orthopedic Procedures",
          "Oral Surgical Procedures",
          "Oral Surgical Procedures",
          "Plastic Surgery Procedures",
          "Diagnostic Equipment",
          "Prostheses and Implants",
          "Surgically-Created Structures",
          "Prosthesis Implantation",
          "Diagnostic Techniques and Procedures",
          "Perioperative Care",
          "Myofunctional Therapy",
          "Finite Element Analysis",
          "Device Removal",
          "Air Abrasion, Dental",
          "Endpoint Determination",
          "Models, Animal",
          "Second-Look Surgery",
          "Leeching",
          "Biomedical Enhancement",
          "Surgery, Computer-Assisted",
          "Physical Therapy Modalities",
          "Animal Experimentation",
          "Behavior Control",
          "Embryo Research",
          "Fetal Research",
          "Incidental Findings",
          "Therapies, Investigational",
          "Euthanasia, Animal",
          "Anterior Temporal Lobectomy",
          "Early Diagnosis",
          "Nutrition Therapy",
          "Microbubbles",
          "Quantum Dots",
          "Fetal Therapies",
          "Microchip Analytical Procedures",
          "Body Modification, Non-Therapeutic",
          "Deep Brain Stimulation",
          "Intermittent Pneumatic Compression Devices",
          "Bariatric Surgery",
          "Whole Body Imaging",
          "Optical Tweezers",
          "Feminine Hygiene Products",
          "Laser Therapy",
          "Nanospheres",
          "Orthokeratologic Procedures",
          "Deep Sedation",
          "Ablation Techniques",
          "Optical Devices",
          "Secondary Prevention",
          "Tertiary Prevention",
          "Electrical Equipment and Supplies",
          "Radiation Equipment and Supplies",
          "Electrochemical Techniques",
          "Magnetic Field Therapy",
          "Apitherapy",
          "Dental Atraumatic Restorative Treatment",
          "Automation, Laboratory",
          "Delayed Diagnosis",
          "Radio Frequency Identification Device",
          "Precision Medicine",
          "Bloodless Medical and Surgical Procedures",
          "Ischemic Postconditioning",
          "Catheters",
          "Gender-Affirming Procedures",
          "Transdermal Patch",
          "Wavelet Analysis",
          "Wound Closure Techniques",
          "Airway Management",
          "Compressed Air",
          "Perioperative Period",
          "Metastasectomy",
          "Organ Sparing Treatments",
          "Pain Management",
          "Ultrasonic Surgical Procedures",
          "Neuroimaging",
          "Capillary Tubing",
          "Therapeutic Occlusion",
          "Magnetometry",
          "Chemistry Techniques, Synthetic",
          "Airway Extubation",
          "Photoacoustic Techniques",
          "Therapy with Helminths",
          "Mechanical Thrombolysis",
          "Tobacco Use Cessation Devices",
          "Accelerometry",
          "Air Filters",
          "Optical Imaging",
          "Chromophore-Assisted Light Inactivation",
          "Bioprinting",
          "Thermometry",
          "Prodromal Symptoms",
          "Ecological Parameter Monitoring",
          "Olfactometry",
          "Patient Care Bundles",
          "Bioprospecting",
          "Prophylactic Surgical Procedures",
          "Cytoreduction Surgical Procedures",
          "In Vitro Techniques",
          "Clinical Decision-Making",
          "Exoskeleton Device",
          "Isolated Heart Preparation",
          "Theranostic Nanomedicine",
          "Theranostic Nanomedicine",
          "Humidifiers",
          "Fasciotomy",
          "Oxygen Radical Absorbance Capacity",
          "Bathroom Equipment",
          "Conservative Treatment",
          "Obesity Management",
          "Keratectomy",
          "Myotomy",
          "Contraindications",
          "Drug Development",
          "Radiofrequency Therapy",
          "Glycemic Control",
          "Treatment Switching",
          "Vaccine Development",
          "Video-Assisted Techniques and Procedures",
          "Overdiagnosis",
          "Genomic Medicine",
          "Motion Capture",
          "Electroporation Therapies",
          "Bridge Therapy",
          "Olfactory Training",
          "Maggot Debridement Therapy",
          "Non-Medical Prescribing",
          "Overlapping Surgery",
          "Portable X-Ray"
         ],
         "type": "scatter3d",
         "x": {
          "bdata": "kbDJQKa1rEBClblA0n7/QFGXncDMHdFAXhvJQPa4jUB6hKhAGEsoQc2dy0C0ws5AbC3TQPO33UCcO95AJtbyQFGmrECu1eBApfXZQGI7ukCIF8xAIaq9QIxouUD/rNNA4/nVQI9YuUCUXMlA4SziQL0v6kCw/Z1Ay8eaQE9T0EDyRpJABCaTQPxe2UBjStdAx86yQIcCxUAmwOBA3w0AQWKcmsCD1sBAduWtQNVimsCJ7LNAdouXwGE1yUAmvM9A327qQELU7UCDYsdAB4abwHV920DlXdxA36a7QBzi4kDTlblA1IjqQLbD4UCwwMVAkc3IQCR8xUCQuu1AHT/IQANJr0AG465Av1e0QEDG8EAfksNAAUu2QGbQwEDoa7dAFS/NQJMhxEB05JpA9F/bQGUK0EDBSe1ALgbkQJvz30CPCdpAXmraQOSz5EArwN5ARw28QOyvtUBMy8xABXPOQP7Nz0AeXprAz0LCQLgf10ASHaDAaiCUQIJex0D9fdNAGVPbQAmiukAB8q9ADvuYwOYXxUAFYZnAvUG8QAOMrkBl+a5A6p/iQEyw4kC1n8dACwDsQLal1UBYPsxABxLWQNxQxEAiJtxA+JyvQFXitUC7SuJAGW3TQJO6jEBq0O1Ay9/IQGmiu0A/PbtACJnOQO/P0UAw4rRAabfiQBd61EBy9qlAe5abQEjyl0C/pq5Ar4u6QKDzwkCm0rRA+tjFQMxmxEBi/s9AVyPhQFEFmUA0R6pAuuSgQDesi0AY4rpAt+66QNXvs0DukMtA6lbLQBLFyUB+VahAyHW6QAoenkBtXwBB3yGYwDFZr0C3/q5AFDixQEkxo0AXOM1Arc/PQPdOmEAZgsBA/2fYQIxPmsBFjZfAHlrZQGntr0A1sLtAZ6DQQPRw+UAaxsNAm5GTQC0AukBwpbdAjA2fwPk1LEFNcStBXkkqQXcrKUFu4C1BA/4qQVq+wUA6RC5BQJcuQeQH80AgV7pAnKXSQDbA2UAH79VAjxLNQFi90EDnnKFAUsbuQFAfvUBxO59AjkeuQH6x1EDk7stA78ilQFr+ukBGQ7xAMVq5QGEbmMBbgONAdU/jQFtly0BFosZAP93aQId5x0CK1MFAV4mqQGl+lEAU5c1ADtbLQGC9rUAIWbBAC1boQO9VJ0GaKLVATVGiQBBmzkCpj9lAJEjjQF54vUDP/YhAAkS5QPLC2EALAJvAtS7FQBEf3EDtSi1BS+qsQKydrkDEAMVAUh71QBcZ9kBT0MNAWTnCQKEe30BgJ9JAE+qYwKqsnUBNONtAkUsuQUAAL0F5TSlBqu8pQXlxL0Gd6y9BbCImQXCf70D1Jt1ADTzCQKMC2kCRQiNBLwzQQKy0vECF17VA26vlQBDg3kAPItFAMrrDQJ7azECPV9xAOju1QIuF6kCFWc9A7uuWQCvPw0BDA9BAiKbcQOqYy0AgDdRAeADDQPxCtkAW7sFA9ieyQH2FwEDaOd1A0oOqQDIjI0HXOc1AzjmJQCUq/0CCT8BAkvXgQNSMwUDjn9hAfBGtQOBktUBXWCZBjTSWQGcuncDbNPxAAaPMQJv0x0BLNv9AeN//QKB1mMCmsatAJGq3QPjsyEDiC95AXMbAQPOz+EAHPL5AT/QnQZNq9UDiWvFAUSojQaQxukDyvrRAqQedwP97wkCak+xAQMLdQBMatUAsia9AdlTGQPxnMEGi6NlADk7qQJsI2EDw26xAgKvYQEsn40CRHJbAGQTIQPSs0UAHy/9ANf+wQM3D7UB/W9pAtry1QEUm6kDBXq9ANRvGQMqF4EBFS69AFgnMQKeo6EBbnS1B1gEwQSl2msAuDeFA3zP6QPuG5EAFWcNApLvDQM2MtUD+J7pAKBe5QBK370AJ9cdAJIDJQKVxtEDVPdFACYW9QIswwUDgzbFAppXBQMrI6kAlEsJA8yHiQE6sskBqKsNApFu8QFRfqUDVlLhAkJvjQMYysUCF+d5AlnbAQDpQyUA=",
          "dtype": "f4"
         },
         "y": {
          "bdata": "2kUDQTcyAUEk/ANBlk/pQLI2LUGnSr5AKU/RQAQ1B0GRHPtA8nBtQKqAAkG4WrRAH+u0QBlNAUGI8Z5AjNT+QLJh10Dd/c1ANhTjQNFp+EChH7VAx2bzQMhd3UCbBftAER4LQaabEEETorxAVPPWQP0HCUFILPhA8Q74QBG88UDLnPFA2dfyQOAUxEAtkwtBJYENQbRq70CCYb5AH04AQUfqLUGBS9NAmIvfQIOPLkFxpg1BVdMtQbuM4UAbgxVBNerlQOsa5kDjOflAAIItQcTdnkBu1uZAnBLpQBHsB0HirwpB7OqmQGnUuEDIw6NA51XMQImX9kC6EfFApY3zQJrY4EC+8OFAqW8RQQLR50BpjaBAwpMGQU5c8EAeTwhB6IDEQEt+EEHUSwRB1uwKQSyJ5ECYrwBBW3QAQcWG/ECFkqNAg3KeQArY00Bv9wdBsQ0LQdMhBEH0n+ZA2nTFQMCuFUGv7jBBRxkKQZwetkBkVitBjB7wQNjpAEFNr7hAP4yiQG6S20C6A+lAAxczQReC8UBFwy5BGgvnQC4k6kB2dNtAKq7ZQIK820BsVMhAeecKQfvD/kCIkeZAH/miQDmn9ECMjqFApQPUQOiOo0BRnwVBtmL4QGRWBkH8vN5Ai+7pQLQaBUEAOcxAY363QIDb2UAaWwJBJQzyQHZ/xEC+rdlAuGYDQUdoAkHI+dlAx6D9QPxgAkEmowdBPd+gQOqr20B+CKRAoUHiQOX6AkFbPvtAyLYSQYTXB0E5TfpAbevhQMpEpUAlaMdA9P68QGm4vkCEF/9A/rEBQX2IA0EaSABBw00yQUqsC0FhOQtBopHVQLt0FUHQEtlAiN7WQDSh70BhAtFAxaDVQC+xMUGl2jJBhu+uQLShE0FUyu1AbdsVQXvi/kDO3MdA1MTzQIW/70Bmw6lAcX8sQdN+Z0AUrV5AbGxeQPUoYEAJAldAewdiQPlSpUA3c19Anz5sQAOb50Awov9APR7eQCR7o0Bm88VAwFPAQO3O4EANOBVBqvipQOXx20AET/dA5B4KQWCNwEBdoO1ANF7cQNlMB0HsndlALWPjQF/1LUEvb+RAzObjQNWFAEGC3ehAP6zoQPK920A0Ad1AshoJQRnN7kD55LdALlLjQF191kBTVAxBElwKQY5FcECUKRJBOGsVQb8D8UAzG9lADqsAQeaI9EC6WwdBKucLQbO7C0GMqy5BnHrFQJ0X6UDhO2pAxmTWQLP31kATOtZAPnnxQKpc8EBQjghBj74XQf190ECqwrtAKxgzQWgEE0GWBptAd+ZcQID5YkCkQWtAAHdoQIEgZkBtVmdAW/B2QBWd8kAD8rxAkqfLQJUhvUDcfHVAfV4VQRtuCEEZHQZBSKfWQLtBo0DfNf1Az33GQA8L+EAH3atAwY/cQIlwpUAdGLhAuUjyQNccEUEFf99A6GLoQGqXBEEakLZAIcfGQKaZpkATCQlBOggQQZXt3EAm25xAvHj6QLezfUBgxtBAGHIIQVfs/UCU0NRAq0XzQBGP4UDoAfZAG34TQYSe90BW+3RAj+zwQC0rLEFlAwBBmJIEQeB4AEEeJOlABJ7qQP+OMkGlCxNB7tviQEAsC0H9xKZAAWAIQUmEAkERBxZBvElmQNLV8ECql+RAkNR0QP4Y4kCk9v1A7f4sQc8gDUHbzuhAKL0DQWwAo0CuVuFAXkwNQUt8Y0AaG/JA4roJQT4I60DQKNdA/RuwQM+E3UC08TBBmzPRQHQb8kArvP9AWSzbQLdM30AZTPlAjEPXQKtOCEFbg9VAChzYQFLCA0F6VNRAo4rYQCT/CEENWmlAmrJbQGX3LEEG1AdBuocCQaze1kAPhBhBB/AYQT0c50DYU/9ARsf4QHlg7UDV9xBBFHkJQXO8o0CKMeNAgtToQAVbD0Ed3BBBY4QPQRVrCkFTJA9BnHvEQPCVAUFDfRhBX8fSQHSv+kAykxNBnRYCQS+bD0FySwJBteLlQICO+kA=",
          "dtype": "f4"
         },
         "z": {
          "bdata": "F4AeQBvILkCA905AkH1zQHby5EDNh+U/upohQMG8ZkDHbwVAyb+1QPYYG0DdYu4/CmYpQCLhY0DTdQ9Am2BrQDvzmUBm1idAFwxJQPCNeEDxtBRAAXsiQARogkC8BIRAwXh1QKrhYUA4hhJAI7dPQCsKBkCKEm1AXyFwQIhwFkAxpWxAZPBqQFVD5D8BrkpArJo9QExrPkAUYStAb/SAQPAI5ECRslBArSpLQO/i4kClV1pADdjkQIUtSUCUH4FAeAVlQOn8b0AwJi5A/vrjQF4vEUApGixA4PgQQD7YDEBxG3xATCAOQF1GCUDJcOo/l2obQJyLX0CBU2dAvdZMQFvdjEDE5IpAsJxUQC4zbUAR4+E/GdY4QLA5SECcf19A1ewrQAtwQ0AdNRJAZWp5QDyHGEBPK2JAYu5KQHl1SkDV+gpA9OcOQIVmLEBy5XZAiA99QJvzfED8yyFAAJTQP5dWgUAyLOlAsiNUQPcd6j+LquNAjudvQIDfK0DROO8/1BL/P1R1VUBm4mVAyyjsQBRKbkBQreVAQ48/QK1AXkApgJVAsir5P2XJ+T+kUlJAJ8UMQJv5O0DaGnBAXKQTQO7/JUB3bShAoDicQLiLOUAetjFA9LKGQH6ha0BsqjtA9VI8QD2BTEBYeDNAHFbwP/EEN0ABX3JAN59KQINaSkDiip5Ako8RQFavDEAUR5pArvnoP8UOYUDzVldAY0jjPzrTIUBnxxVAxG9NQC7TDkC5CIJA7clYQJ8qa0DYl/c/QLwNQCJjNkDiBDVAuRvPP32Wzz/MmiVA35k6QNnyEUBtqYFAKvHqQNZpTkC7yVFA6vCVQEWcXUCdt90/BywvQJU1ZkAdHjxAypA4QBYS7kDdkOxA+8f0P5hLWkDjOx9AvzuCQD3Hc0Civ11A9p9sQH+HT0A9NkNAdaThQI1NtUCQx7tAWjq2QBvuuUABY7NArXW3QFNb6z/cFLdAbfW7QDi8ZEBS+/Y/v0dWQLzBEUDYLvk/bpPNP1j5U0AR211AD2wVQMZ2eUAT/WpA325FQOmZS0DHQh9AUESEQElTSUDl/zhAmBsQQHZI4ECAlklAnB0XQJM4VEAznQ1AovhjQLaOUED+di5AsClpQOzpdED1SOU/MSpEQPZImECkCFVAfmkIQD7RtEC85lZA2cFfQF0jLECoV0JAAS4oQEnSDkBHTWhAV49OQItWb0CztOVAwLomQI9tBUAn77NAwjMsQOTBJ0Bf0GZAqeMcQGpDGUAbOUhASyYrQNVwZkD3d98/w6fsQBCnVkBhHglAOAq7QHMOukBspLZAz6K3QH7dukAgV75ARmG1QMuMb0AE+zxAtnBJQLdCSEDIRKtAu0yBQCt5REDbuX1AiK9RQAcGBkCuxFpABdr0P1syKECcJw1Ae0JTQFyfD0AzGTFA90FhQJmaaUAXrUVAhyBcQKx+YUALE9g/0rb0P3n9PUC17ihALfxeQGJsF0AAegtAI48DQLDyrkCHAgVAAuxnQNesfkAqT0FA00EJQA/kEUB0cHdAe8ZKQCOhO0De2bNAr6lwQIEw5EC5PXhAlh1MQMlLRkChNnNAYYp0QI+c60CZdk5AzyxrQFBFQkBaNPM/GLImQBErckD/uTRAvZKxQC2oGkDSa11Aq+qqQPs1M0DzXH9A3ejmQJTOdED9jHBAE5RnQEcBOUCVakdA7NdzQKMBvUD2kAVAWS4EQMa2I0CD3ZdAaHzxPzn2+z9do+hAGhMjQDs4U0DqJYBAC4+RQD7DN0ALAA5AMW5HQIamA0BCGJdAKa9bQFPpMkDy5ZlA/GIkQM6CAkCg5bxA+TS3QDOt4kBuBS1Aj4x0QLsIaUCoTipAYDUpQPuUg0CE/vM/UmE7QIL3bUA9aUVAplFwQCSpOUA8b29AVjJOQGHoTEB3pkhAPo5xQPnICEBXi0VAIZs7QKxIVECgZCpA6ipNQLn8A0BRZVZAK2YvQLAYRUBIWS9A+WNcQGGHEEA=",
          "dtype": "f4"
         }
        }
       ],
       "layout": {
        "margin": {
         "b": 0,
         "l": 0,
         "r": 0,
         "t": 0
        },
        "scene": {
         "xaxis": {
          "title": {
           "text": "X"
          }
         },
         "yaxis": {
          "title": {
           "text": "Y"
          }
         },
         "zaxis": {
          "title": {
           "text": "Z"
          }
         }
        },
        "template": {
         "data": {
          "bar": [
           {
            "error_x": {
             "color": "#2a3f5f"
            },
            "error_y": {
             "color": "#2a3f5f"
            },
            "marker": {
             "line": {
              "color": "#E5ECF6",
              "width": 0.5
             },
             "pattern": {
              "fillmode": "overlay",
              "size": 10,
              "solidity": 0.2
             }
            },
            "type": "bar"
           }
          ],
          "barpolar": [
           {
            "marker": {
             "line": {
              "color": "#E5ECF6",
              "width": 0.5
             },
             "pattern": {
              "fillmode": "overlay",
              "size": 10,
              "solidity": 0.2
             }
            },
            "type": "barpolar"
           }
          ],
          "carpet": [
           {
            "aaxis": {
             "endlinecolor": "#2a3f5f",
             "gridcolor": "white",
             "linecolor": "white",
             "minorgridcolor": "white",
             "startlinecolor": "#2a3f5f"
            },
            "baxis": {
             "endlinecolor": "#2a3f5f",
             "gridcolor": "white",
             "linecolor": "white",
             "minorgridcolor": "white",
             "startlinecolor": "#2a3f5f"
            },
            "type": "carpet"
           }
          ],
          "choropleth": [
           {
            "colorbar": {
             "outlinewidth": 0,
             "ticks": ""
            },
            "type": "choropleth"
           }
          ],
          "contour": [
           {
            "colorbar": {
             "outlinewidth": 0,
             "ticks": ""
            },
            "colorscale": [
             [
              0,
              "#0d0887"
             ],
             [
              0.1111111111111111,
              "#46039f"
             ],
             [
              0.2222222222222222,
              "#7201a8"
             ],
             [
              0.3333333333333333,
              "#9c179e"
             ],
             [
              0.4444444444444444,
              "#bd3786"
             ],
             [
              0.5555555555555556,
              "#d8576b"
             ],
             [
              0.6666666666666666,
              "#ed7953"
             ],
             [
              0.7777777777777778,
              "#fb9f3a"
             ],
             [
              0.8888888888888888,
              "#fdca26"
             ],
             [
              1,
              "#f0f921"
             ]
            ],
            "type": "contour"
           }
          ],
          "contourcarpet": [
           {
            "colorbar": {
             "outlinewidth": 0,
             "ticks": ""
            },
            "type": "contourcarpet"
           }
          ],
          "heatmap": [
           {
            "colorbar": {
             "outlinewidth": 0,
             "ticks": ""
            },
            "colorscale": [
             [
              0,
              "#0d0887"
             ],
             [
              0.1111111111111111,
              "#46039f"
             ],
             [
              0.2222222222222222,
              "#7201a8"
             ],
             [
              0.3333333333333333,
              "#9c179e"
             ],
             [
              0.4444444444444444,
              "#bd3786"
             ],
             [
              0.5555555555555556,
              "#d8576b"
             ],
             [
              0.6666666666666666,
              "#ed7953"
             ],
             [
              0.7777777777777778,
              "#fb9f3a"
             ],
             [
              0.8888888888888888,
              "#fdca26"
             ],
             [
              1,
              "#f0f921"
             ]
            ],
            "type": "heatmap"
           }
          ],
          "histogram": [
           {
            "marker": {
             "pattern": {
              "fillmode": "overlay",
              "size": 10,
              "solidity": 0.2
             }
            },
            "type": "histogram"
           }
          ],
          "histogram2d": [
           {
            "colorbar": {
             "outlinewidth": 0,
             "ticks": ""
            },
            "colorscale": [
             [
              0,
              "#0d0887"
             ],
             [
              0.1111111111111111,
              "#46039f"
             ],
             [
              0.2222222222222222,
              "#7201a8"
             ],
             [
              0.3333333333333333,
              "#9c179e"
             ],
             [
              0.4444444444444444,
              "#bd3786"
             ],
             [
              0.5555555555555556,
              "#d8576b"
             ],
             [
              0.6666666666666666,
              "#ed7953"
             ],
             [
              0.7777777777777778,
              "#fb9f3a"
             ],
             [
              0.8888888888888888,
              "#fdca26"
             ],
             [
              1,
              "#f0f921"
             ]
            ],
            "type": "histogram2d"
           }
          ],
          "histogram2dcontour": [
           {
            "colorbar": {
             "outlinewidth": 0,
             "ticks": ""
            },
            "colorscale": [
             [
              0,
              "#0d0887"
             ],
             [
              0.1111111111111111,
              "#46039f"
             ],
             [
              0.2222222222222222,
              "#7201a8"
             ],
             [
              0.3333333333333333,
              "#9c179e"
             ],
             [
              0.4444444444444444,
              "#bd3786"
             ],
             [
              0.5555555555555556,
              "#d8576b"
             ],
             [
              0.6666666666666666,
              "#ed7953"
             ],
             [
              0.7777777777777778,
              "#fb9f3a"
             ],
             [
              0.8888888888888888,
              "#fdca26"
             ],
             [
              1,
              "#f0f921"
             ]
            ],
            "type": "histogram2dcontour"
           }
          ],
          "mesh3d": [
           {
            "colorbar": {
             "outlinewidth": 0,
             "ticks": ""
            },
            "type": "mesh3d"
           }
          ],
          "parcoords": [
           {
            "line": {
             "colorbar": {
              "outlinewidth": 0,
              "ticks": ""
             }
            },
            "type": "parcoords"
           }
          ],
          "pie": [
           {
            "automargin": true,
            "type": "pie"
           }
          ],
          "scatter": [
           {
            "fillpattern": {
             "fillmode": "overlay",
             "size": 10,
             "solidity": 0.2
            },
            "type": "scatter"
           }
          ],
          "scatter3d": [
           {
            "line": {
             "colorbar": {
              "outlinewidth": 0,
              "ticks": ""
             }
            },
            "marker": {
             "colorbar": {
              "outlinewidth": 0,
              "ticks": ""
             }
            },
            "type": "scatter3d"
           }
          ],
          "scattercarpet": [
           {
            "marker": {
             "colorbar": {
              "outlinewidth": 0,
              "ticks": ""
             }
            },
            "type": "scattercarpet"
           }
          ],
          "scattergeo": [
           {
            "marker": {
             "colorbar": {
              "outlinewidth": 0,
              "ticks": ""
             }
            },
            "type": "scattergeo"
           }
          ],
          "scattergl": [
           {
            "marker": {
             "colorbar": {
              "outlinewidth": 0,
              "ticks": ""
             }
            },
            "type": "scattergl"
           }
          ],
          "scattermap": [
           {
            "marker": {
             "colorbar": {
              "outlinewidth": 0,
              "ticks": ""
             }
            },
            "type": "scattermap"
           }
          ],
          "scattermapbox": [
           {
            "marker": {
             "colorbar": {
              "outlinewidth": 0,
              "ticks": ""
             }
            },
            "type": "scattermapbox"
           }
          ],
          "scatterpolar": [
           {
            "marker": {
             "colorbar": {
              "outlinewidth": 0,
              "ticks": ""
             }
            },
            "type": "scatterpolar"
           }
          ],
          "scatterpolargl": [
           {
            "marker": {
             "colorbar": {
              "outlinewidth": 0,
              "ticks": ""
             }
            },
            "type": "scatterpolargl"
           }
          ],
          "scatterternary": [
           {
            "marker": {
             "colorbar": {
              "outlinewidth": 0,
              "ticks": ""
             }
            },
            "type": "scatterternary"
           }
          ],
          "surface": [
           {
            "colorbar": {
             "outlinewidth": 0,
             "ticks": ""
            },
            "colorscale": [
             [
              0,
              "#0d0887"
             ],
             [
              0.1111111111111111,
              "#46039f"
             ],
             [
              0.2222222222222222,
              "#7201a8"
             ],
             [
              0.3333333333333333,
              "#9c179e"
             ],
             [
              0.4444444444444444,
              "#bd3786"
             ],
             [
              0.5555555555555556,
              "#d8576b"
             ],
             [
              0.6666666666666666,
              "#ed7953"
             ],
             [
              0.7777777777777778,
              "#fb9f3a"
             ],
             [
              0.8888888888888888,
              "#fdca26"
             ],
             [
              1,
              "#f0f921"
             ]
            ],
            "type": "surface"
           }
          ],
          "table": [
           {
            "cells": {
             "fill": {
              "color": "#EBF0F8"
             },
             "line": {
              "color": "white"
             }
            },
            "header": {
             "fill": {
              "color": "#C8D4E3"
             },
             "line": {
              "color": "white"
             }
            },
            "type": "table"
           }
          ]
         },
         "layout": {
          "annotationdefaults": {
           "arrowcolor": "#2a3f5f",
           "arrowhead": 0,
           "arrowwidth": 1
          },
          "autotypenumbers": "strict",
          "coloraxis": {
           "colorbar": {
            "outlinewidth": 0,
            "ticks": ""
           }
          },
          "colorscale": {
           "diverging": [
            [
             0,
             "#8e0152"
            ],
            [
             0.1,
             "#c51b7d"
            ],
            [
             0.2,
             "#de77ae"
            ],
            [
             0.3,
             "#f1b6da"
            ],
            [
             0.4,
             "#fde0ef"
            ],
            [
             0.5,
             "#f7f7f7"
            ],
            [
             0.6,
             "#e6f5d0"
            ],
            [
             0.7,
             "#b8e186"
            ],
            [
             0.8,
             "#7fbc41"
            ],
            [
             0.9,
             "#4d9221"
            ],
            [
             1,
             "#276419"
            ]
           ],
           "sequential": [
            [
             0,
             "#0d0887"
            ],
            [
             0.1111111111111111,
             "#46039f"
            ],
            [
             0.2222222222222222,
             "#7201a8"
            ],
            [
             0.3333333333333333,
             "#9c179e"
            ],
            [
             0.4444444444444444,
             "#bd3786"
            ],
            [
             0.5555555555555556,
             "#d8576b"
            ],
            [
             0.6666666666666666,
             "#ed7953"
            ],
            [
             0.7777777777777778,
             "#fb9f3a"
            ],
            [
             0.8888888888888888,
             "#fdca26"
            ],
            [
             1,
             "#f0f921"
            ]
           ],
           "sequentialminus": [
            [
             0,
             "#0d0887"
            ],
            [
             0.1111111111111111,
             "#46039f"
            ],
            [
             0.2222222222222222,
             "#7201a8"
            ],
            [
             0.3333333333333333,
             "#9c179e"
            ],
            [
             0.4444444444444444,
             "#bd3786"
            ],
            [
             0.5555555555555556,
             "#d8576b"
            ],
            [
             0.6666666666666666,
             "#ed7953"
            ],
            [
             0.7777777777777778,
             "#fb9f3a"
            ],
            [
             0.8888888888888888,
             "#fdca26"
            ],
            [
             1,
             "#f0f921"
            ]
           ]
          },
          "colorway": [
           "#636efa",
           "#EF553B",
           "#00cc96",
           "#ab63fa",
           "#FFA15A",
           "#19d3f3",
           "#FF6692",
           "#B6E880",
           "#FF97FF",
           "#FECB52"
          ],
          "font": {
           "color": "#2a3f5f"
          },
          "geo": {
           "bgcolor": "white",
           "lakecolor": "white",
           "landcolor": "#E5ECF6",
           "showlakes": true,
           "showland": true,
           "subunitcolor": "white"
          },
          "hoverlabel": {
           "align": "left"
          },
          "hovermode": "closest",
          "mapbox": {
           "style": "light"
          },
          "paper_bgcolor": "white",
          "plot_bgcolor": "#E5ECF6",
          "polar": {
           "angularaxis": {
            "gridcolor": "white",
            "linecolor": "white",
            "ticks": ""
           },
           "bgcolor": "#E5ECF6",
           "radialaxis": {
            "gridcolor": "white",
            "linecolor": "white",
            "ticks": ""
           }
          },
          "scene": {
           "xaxis": {
            "backgroundcolor": "#E5ECF6",
            "gridcolor": "white",
            "gridwidth": 2,
            "linecolor": "white",
            "showbackground": true,
            "ticks": "",
            "zerolinecolor": "white"
           },
           "yaxis": {
            "backgroundcolor": "#E5ECF6",
            "gridcolor": "white",
            "gridwidth": 2,
            "linecolor": "white",
            "showbackground": true,
            "ticks": "",
            "zerolinecolor": "white"
           },
           "zaxis": {
            "backgroundcolor": "#E5ECF6",
            "gridcolor": "white",
            "gridwidth": 2,
            "linecolor": "white",
            "showbackground": true,
            "ticks": "",
            "zerolinecolor": "white"
           }
          },
          "shapedefaults": {
           "line": {
            "color": "#2a3f5f"
           }
          },
          "ternary": {
           "aaxis": {
            "gridcolor": "white",
            "linecolor": "white",
            "ticks": ""
           },
           "baxis": {
            "gridcolor": "white",
            "linecolor": "white",
            "ticks": ""
           },
           "bgcolor": "#E5ECF6",
           "caxis": {
            "gridcolor": "white",
            "linecolor": "white",
            "ticks": ""
           }
          },
          "title": {
           "x": 0.05
          },
          "xaxis": {
           "automargin": true,
           "gridcolor": "white",
           "linecolor": "white",
           "ticks": "",
           "title": {
            "standoff": 15
           },
           "zerolinecolor": "white",
           "zerolinewidth": 2
          },
          "yaxis": {
           "automargin": true,
           "gridcolor": "white",
           "linecolor": "white",
           "ticks": "",
           "title": {
            "standoff": 15
           },
           "zerolinecolor": "white",
           "zerolinewidth": 2
          }
         }
        }
       }
      }
     },
     "metadata": {},
     "output_type": "display_data"
    }
   ],
   "source": [
    "umapper = umap.UMAP(n_components=3)\n",
    "emb = umapper.fit_transform(last_acts.detach().numpy())\n",
    "print(emb.shape)\n",
    "\n",
    "x, y, z = emb[:, 0], emb[:, 1], emb[:, 2]\n",
    "fig = go.Figure(data=[go.Scatter3d(\n",
    "    x=x,\n",
    "    y=y,\n",
    "    z=z,\n",
    "    mode='markers',\n",
    "    marker=dict(\n",
    "        size=4,\n",
    "        opacity=0.8\n",
    "    ),\n",
    "    text=names,\n",
    "    hoverinfo='text'        \n",
    ")])\n",
    "\n",
    "fig.update_layout(\n",
    "    scene=dict(\n",
    "        xaxis_title='X',\n",
    "        yaxis_title='Y',\n",
    "        zaxis_title='Z'\n",
    "    ),\n",
    "    margin=dict(l=0, r=0, b=0, t=0)\n",
    ")\n"
   ]
  }
 ],
 "metadata": {
  "kernelspec": {
   "display_name": "chenv",
   "language": "python",
   "name": "python3"
  },
  "language_info": {
   "codemirror_mode": {
    "name": "ipython",
    "version": 3
   },
   "file_extension": ".py",
   "mimetype": "text/x-python",
   "name": "python",
   "nbconvert_exporter": "python",
   "pygments_lexer": "ipython3",
   "version": "3.11.8"
  }
 },
 "nbformat": 4,
 "nbformat_minor": 2
}
