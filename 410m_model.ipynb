{
 "cells": [
  {
   "cell_type": "code",
   "id": "initial_id",
   "metadata": {
    "collapsed": true,
    "ExecuteTime": {
     "end_time": "2025-03-12T00:29:59.585862Z",
     "start_time": "2025-03-12T00:29:59.582719Z"
    }
   },
   "source": [
    "import io\n",
    "\n",
    "import torch\n",
    "import pandas as pd\n",
    "import numpy as np\n",
    "from transformers import AutoModelForCausalLM, AutoTokenizer, AutoModel\n",
    "from og.dictionary import AutoEncoder\n",
    "from datasets import load_dataset\n",
    "import random\n",
    "import safetensors\n",
    "import torch.nn as nn\n",
    "\n"
   ],
   "outputs": [],
   "execution_count": 30
  },
  {
   "metadata": {
    "ExecuteTime": {
     "end_time": "2025-03-11T23:16:41.650047Z",
     "start_time": "2025-03-11T23:16:40.757421Z"
    }
   },
   "cell_type": "code",
   "source": [
    "# Load the Pythia model and tokenizer\n",
    "model = AutoModelForCausalLM.from_pretrained(\"EleutherAI/pythia-410m\")\n",
    "tokenizer = AutoTokenizer.from_pretrained(\"EleutherAI/pythia-410m\")\n",
    "tokenizer.pad_token = tokenizer.eos_token"
   ],
   "id": "122a349e9b4b4b88",
   "outputs": [
    {
     "name": "stderr",
     "output_type": "stream",
     "text": [
      "The `GPTNeoXSdpaAttention` class is deprecated in favor of simply modifying the `config._attn_implementation`attribute of the `GPTNeoXAttention` class! It will be removed in v4.48\n"
     ]
    }
   ],
   "execution_count": 2
  },
  {
   "metadata": {
    "ExecuteTime": {
     "end_time": "2025-03-12T00:14:17.104646Z",
     "start_time": "2025-03-12T00:14:14.543619Z"
    }
   },
   "cell_type": "code",
   "source": [
    "# Get 1000 sentences from the pile. \n",
    "\n",
    "# Load The Pile in streaming mode\n",
    "dataset = load_dataset(\"monology/pile-uncopyrighted\", split=\"train\", streaming=True)\n",
    "\n",
    "# Collect 1,000 random sentences\n",
    "random_sentences = []\n",
    "for i, example in enumerate(dataset):\n",
    "    random_sentences.append(example[\"text\"])\n",
    "    if len(random_sentences) >= 1000:\n",
    "        break\n",
    "\n",
    "# Save or process sentences\n",
    "with open(\"random_sentences.txt\", \"w\") as f:\n",
    "    for sentence in random_sentences:\n",
    "        f.write(sentence + \"\\n\")\n"
   ],
   "id": "789fa96a942a6389",
   "outputs": [],
   "execution_count": 19
  },
  {
   "metadata": {
    "ExecuteTime": {
     "end_time": "2025-03-12T00:16:01.153031Z",
     "start_time": "2025-03-12T00:16:01.147717Z"
    }
   },
   "cell_type": "code",
   "source": "print(random_sentences[125])",
   "id": "b56a9a63e143088d",
   "outputs": [
    {
     "name": "stdout",
     "output_type": "stream",
     "text": [
      "Alexander Bell Donald\n",
      "\n",
      "Alexander Bell Donald (18 August 1842–7 March 1922) was a New Zealand seaman, sailmaker, merchant and ship owner. He was born in Inverkeithing, Fife, Scotland on 18 August 1842.\n",
      "\n",
      "References\n",
      "\n",
      "Category:1842 births\n",
      "Category:1922 deaths\n",
      "Category:Scottish emigrants to New Zealand\n",
      "Category:People from Inverkeithing\n"
     ]
    }
   ],
   "execution_count": 24
  },
  {
   "metadata": {
    "ExecuteTime": {
     "end_time": "2025-03-12T00:15:47.735655Z",
     "start_time": "2025-03-12T00:15:43.698870Z"
    }
   },
   "cell_type": "code",
   "source": [
    "# Outputs before my stuff\n",
    "test_input = random_sentences[125]\n",
    "\n",
    "# Tokenize the input\n",
    "inputs = tokenizer(test_input, return_tensors=\"pt\", padding=\"max_length\", truncation = False)\n",
    "attention_mask = inputs['attention_mask']  # Get the attention_mask\n",
    "with torch.no_grad():\n",
    "    output = model.generate(inputs['input_ids'], attention_mask=inputs['attention_mask'])\n",
    "\n",
    "# Decode the output\n",
    "decoded_output = tokenizer.decode(output[0].tolist(), skip_special_tokens=True)\n",
    "\n",
    "# Print decoded output\n",
    "print(decoded_output)\n"
   ],
   "id": "dd996e6a781d06ec",
   "outputs": [
    {
     "name": "stderr",
     "output_type": "stream",
     "text": [
      "Setting `pad_token_id` to `eos_token_id`:0 for open-end generation.\n"
     ]
    },
    {
     "name": "stdout",
     "output_type": "stream",
     "text": [
      "Alexander Bell Donald\n",
      "\n",
      "Alexander Bell Donald (18 August 1842–7 March 1922) was a New Zealand seaman, sailmaker, merchant and ship owner. He was born in Inverkeithing, Fife, Scotland on 18 August 1842.\n",
      "\n",
      "References\n",
      "\n",
      "Category:1842 births\n",
      "Category:1922 deaths\n",
      "Category:Scottish emigrants to New Zealand\n",
      "Category:People from Inverkeithing\n",
      "Category:People from Fife\n",
      "Category:New Zealand merchants\n",
      "Category:New Zealand ship owners\n"
     ]
    }
   ],
   "execution_count": 23
  },
  {
   "metadata": {},
   "cell_type": "markdown",
   "source": "",
   "id": "a997cbdd0cc92afc"
  },
  {
   "metadata": {},
   "cell_type": "markdown",
   "source": "Setting up the Autoencoder",
   "id": "fb152e9f03236249"
  },
  {
   "metadata": {
    "ExecuteTime": {
     "end_time": "2025-03-12T00:35:48.682202Z",
     "start_time": "2025-03-12T00:35:48.678741Z"
    }
   },
   "cell_type": "code",
   "source": [
    "# Set up autoencoder\n",
    "\n",
    "safetensor_file = \"dictionaries/sae.safetensors\""
   ],
   "id": "8819b8fdfc0e2149",
   "outputs": [],
   "execution_count": 31
  },
  {
   "metadata": {
    "ExecuteTime": {
     "end_time": "2025-03-12T00:22:07.456743Z",
     "start_time": "2025-03-12T00:22:07.448571Z"
    }
   },
   "cell_type": "code",
   "source": [
    "state_dict = {}\n",
    "with safetensors.safe_open(safetensor_file, framework=\"pt\", device=\"cpu\") as f:\n",
    "    for k in f.keys():\n",
    "        state_dict[k] = f.get_tensor(k)\n",
    "    \n",
    "    # inspect the keys and the shapes of the associated tensors\n",
    "    for key, value in state_dict.items():\n",
    "        print(f'{key}: {value.shape}')"
   ],
   "id": "76f55522ad12a8f2",
   "outputs": [
    {
     "name": "stdout",
     "output_type": "stream",
     "text": [
      "W_dec: torch.Size([65536, 1024])\n",
      "b_dec: torch.Size([1024])\n",
      "encoder.bias: torch.Size([65536])\n",
      "encoder.weight: torch.Size([65536, 1024])\n"
     ]
    }
   ],
   "execution_count": 27
  },
  {
   "metadata": {
    "ExecuteTime": {
     "end_time": "2025-03-12T00:35:50.794777Z",
     "start_time": "2025-03-12T00:35:50.791742Z"
    }
   },
   "cell_type": "code",
   "source": [
    "config = {'d_in': 410, 'expansion_factor': 64, 'normalize_decoder': True, 'num_latents': 65536, 'k': 32,\n",
    "          'signed': False}\n"
   ],
   "id": "def63279504b7a2a",
   "outputs": [],
   "execution_count": 32
  },
  {
   "metadata": {
    "ExecuteTime": {
     "end_time": "2025-03-12T00:35:53.211266Z",
     "start_time": "2025-03-12T00:35:53.200755Z"
    }
   },
   "cell_type": "code",
   "source": [
    "class Autoencoder(nn.Module):\n",
    "    def __init__(self, config):\n",
    "        super(Autoencoder, self).__init__()\n",
    "        self.expansion_factor = config['expansion_factor']\n",
    "        self.normalize_decoder = config['normalize_decoder']\n",
    "        self.num_latents = config['num_latents']\n",
    "        self.k = config['k']\n",
    "        self.signed = config['signed']\n",
    "        self.d_in = config['d_in']\n",
    "\n",
    "        self.encoder = nn.Sequential(\n",
    "            nn.Linear(self.d_in, self.expansion_factor * self.d_in),\n",
    "            nn.ReLU(),\n",
    "            nn.Linear(self.expansion_factor * self.d_in, self.num_latents)\n",
    "        )\n",
    "\n",
    "        self.decoder = nn.Sequential(\n",
    "            nn.Linear(self.num_latents, self.expansion_factor * self.d_in),\n",
    "            nn.ReLU(),\n",
    "            nn.Linear(self.expansion_factor * self.d_in, self.d_in)\n",
    "        )\n",
    "\n",
    "        if self.normalize_decoder:\n",
    "            self.decoder.add_module('normalize', nn.BatchNorm1d(self.d_in))\n",
    "\n",
    "    def forward(self, x):\n",
    "        z = self.encoder(x)\n",
    "        if self.signed:\n",
    "            z = torch.sign(z)\n",
    "        x_recon = self.decoder(z)\n",
    "        return x_recon"
   ],
   "id": "5186c5a1271c0c7b",
   "outputs": [],
   "execution_count": 33
  },
  {
   "metadata": {
    "jupyter": {
     "is_executing": true
    },
    "ExecuteTime": {
     "start_time": "2025-03-12T00:35:54.553528Z"
    }
   },
   "cell_type": "code",
   "source": [
    "\n",
    "ae = Autoencoder(config)\n",
    "ae.load_state_dict(state_dict)"
   ],
   "id": "1ba022188c9f36db",
   "outputs": [],
   "execution_count": null
  },
  {
   "metadata": {},
   "cell_type": "code",
   "outputs": [],
   "execution_count": null,
   "source": "# Save this state dict, delete the safetensors. then we eating. ",
   "id": "c97ff841a97aed5f"
  }
 ],
 "metadata": {
  "kernelspec": {
   "display_name": "Python 3",
   "language": "python",
   "name": "python3"
  },
  "language_info": {
   "codemirror_mode": {
    "name": "ipython",
    "version": 2
   },
   "file_extension": ".py",
   "mimetype": "text/x-python",
   "name": "python",
   "nbconvert_exporter": "python",
   "pygments_lexer": "ipython2",
   "version": "2.7.6"
  }
 },
 "nbformat": 4,
 "nbformat_minor": 5
}
